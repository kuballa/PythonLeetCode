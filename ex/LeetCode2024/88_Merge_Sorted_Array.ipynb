{
 "cells": [
  {
   "cell_type": "markdown",
   "metadata": {},
   "source": [
    "You are given two integer arrays `nums1` and `nums2`, sorted in non-decreasing order, and two integers `m` and `n`, representing the number of elements in `nums1` and `nums2` respectively.\n",
    "\n",
    "Merge `nums1` and `nums2` into a single array sorted in non-decreasing order.\n",
    "\n",
    "The final sorted array should not be returned by the function, but instead be stored inside the array `nums1`. To accommodate this, `nums1` has a length of `m + n`, where the first `m` elements denote the elements that should be merged, and the last `n` elements are set to `0` and should be ignored. `nums2` has a length of `n`.\n",
    "\n",
    " \n",
    "\n",
    "Example 1:\n",
    "```\n",
    "Input: nums1 = [1,2,3,0,0,0], m = 3, nums2 = [2,5,6], n = 3\n",
    "Output: [1,2,2,3,5,6]\n",
    "Explanation: The arrays we are merging are [1,2,3] and [2,5,6].\n",
    "The result of the merge is [1,2,2,3,5,6] with the underlined elements coming from nums1.\n",
    "```\n",
    "Example 2:\n",
    "```\n",
    "Input: nums1 = [1], m = 1, nums2 = [], n = 0\n",
    "Output: [1]\n",
    "Explanation: The arrays we are merging are [1] and [].\n",
    "The result of the merge is [1].\n",
    "```\n",
    "Example 3:\n",
    "```\n",
    "Input: nums1 = [0], m = 0, nums2 = [1], n = 1\n",
    "Output: [1]\n",
    "Explanation: The arrays we are merging are [] and [1].\n",
    "The result of the merge is [1].\n",
    "Note that because m = 0, there are no elements in nums1. The 0 is only there to ensure the merge result can fit in nums1.\n",
    "```\n",
    "\n",
    "Constraints:\n",
    "```\n",
    "nums1.length == m + n\n",
    "nums2.length == n\n",
    "0 <= m, n <= 200\n",
    "1 <= m + n <= 200\n",
    "-109 <= nums1[i], nums2[j] <= 109\n",
    "```\n",
    "\n",
    "Follow up: Can you come up with an algorithm that runs in `O(m + n)` time?"
   ]
  },
  {
   "cell_type": "code",
   "execution_count": null,
   "metadata": {},
   "outputs": [],
   "source": [
    "class Solution(object):\n",
    "    def merge(self, nums1, m, nums2, n):\n",
    "        \"\"\"\n",
    "        :type nums1: List[int]\n",
    "        :type m: int\n",
    "        :type nums2: List[int]\n",
    "        :type n: int\n",
    "        :rtype: None Do not return anything, modify nums1 in-place instead.\n",
    "        \"\"\"\n",
    "        num1 = remove_items(num1, 0)\n",
    "\n",
    "        num1 = num1 + num2\n",
    "        num1.sort()\n",
    "        return num1\n",
    "        "
   ]
  },
  {
   "cell_type": "code",
   "execution_count": 11,
   "metadata": {},
   "outputs": [
    {
     "name": "stdout",
     "output_type": "stream",
     "text": [
      "[1, 2, 2, 3, 5, 6]\n"
     ]
    }
   ],
   "source": [
    "def remove_items(test_list, item):\n",
    "  res = [i for i in test_list if i != item]\n",
    "  return res\n",
    "\n",
    "num1 = [1,2,3,0,0,0]\n",
    "num2 = [2,5,6]\n",
    "\n",
    "num1 = remove_items(num1, 0)\n",
    "\n",
    "num1 = num1 + num2\n",
    "num1.sort()\n",
    "print(num1)\n"
   ]
  },
  {
   "cell_type": "code",
   "execution_count": 19,
   "metadata": {},
   "outputs": [
    {
     "name": "stdout",
     "output_type": "stream",
     "text": [
      "Unsorted Array\n",
      "[1, 7, 4, 1, 10, 9, -2]\n",
      "7\n",
      "0 6 [1, 7, 4, 1, 10, 9, -2] quicksort\n",
      "0 6 [1, 7, 4, 1, 10, 9, -2] partition\n",
      "0 -1 [-2, 7, 4, 1, 10, 9, 1] quicksort\n",
      "1 6 [-2, 7, 4, 1, 10, 9, 1] quicksort\n",
      "1 6 [-2, 7, 4, 1, 10, 9, 1] partition\n",
      "1 1 [-2, 7, 1, 1, 10, 9, 4] quicksort\n",
      "3 6 [-2, 7, 1, 1, 10, 9, 4] quicksort\n",
      "3 6 [-2, 7, 1, 1, 10, 9, 4] partition\n",
      "3 3 [-2, 7, 1, 1, 4, 9, 10] quicksort\n",
      "5 6 [-2, 7, 1, 1, 4, 9, 10] quicksort\n",
      "5 6 [-2, 7, 1, 1, 4, 9, 10] partition\n",
      "5 5 [-2, 7, 1, 1, 4, 9, 10] quicksort\n",
      "7 6 [-2, 7, 1, 1, 4, 9, 10] quicksort\n"
     ]
    }
   ],
   "source": [
    "# recurence algorithm\n",
    "def quicksort_rec(arr):\n",
    "  if len(arr) <= 1:\n",
    "    return arr\n",
    "  else:\n",
    "    pivot = arr[0]\n",
    "    left = [x for x in arr[1:] if x < pivot]\n",
    "    right = [x for x in arr[1:] if x >= pivot]\n",
    "    print(arr)\n",
    "    return quicksort_rec(left) + [pivot] + quicksort_rec(right)\n",
    "\n",
    "\n",
    "# interative algorithm\n",
    "def partition(p_arr, p_low, p_high):\n",
    "  print(p_low, p_high, p_arr, 'partition')\n",
    "  pivot = p_arr[p_high]\n",
    "  i = p_low - 1\n",
    "\n",
    "  for j in range(p_low, p_high):\n",
    "    if p_arr[j] <= pivot:\n",
    "      i = i + 1\n",
    "      (p_arr[i], p_arr[j]) = (p_arr[i], p_arr[j])\n",
    "  (p_arr[i + 1], p_arr[p_high]) = (p_arr[p_high], p_arr[i + 1])\n",
    "  return i + 1\n",
    "def quicksort(q_arr, q_low, q_high):\n",
    "  print(q_low, q_high, q_arr, 'quicksort')\n",
    "  if q_low < q_high:\n",
    "    pi = partition(q_arr, q_low, q_high)\n",
    "    quicksort(q_arr, q_low, pi - 1)\n",
    "    quicksort(q_arr, pi + 1, q_high)\n",
    "\n",
    "data = [1, 7, 4, 1, 10, 9, -2]\n",
    "print(\"Unsorted Array\")\n",
    "print(data)\n",
    "\n",
    "size = len(data)\n",
    "\n",
    "print(size)\n",
    "\n",
    "quicksort(data, 0, size - 1)\n",
    "\n",
    "# arr = [1, 7, 4, 1, 10, 9, -2]\n",
    "# sorted_arr = quicksort_rec(arr)\n",
    "# print(\"Sorted Array in Ascending Order:\")\n",
    "# print(sorted_arr)"
   ]
  },
  {
   "cell_type": "code",
   "execution_count": null,
   "metadata": {},
   "outputs": [],
   "source": []
  }
 ],
 "metadata": {
  "kernelspec": {
   "display_name": "usr",
   "language": "python",
   "name": "python3"
  },
  "language_info": {
   "codemirror_mode": {
    "name": "ipython",
    "version": 3
   },
   "file_extension": ".py",
   "mimetype": "text/x-python",
   "name": "python",
   "nbconvert_exporter": "python",
   "pygments_lexer": "ipython3",
   "version": "3.12.3"
  }
 },
 "nbformat": 4,
 "nbformat_minor": 2
}
