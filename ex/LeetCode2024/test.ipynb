{
 "cells": [
  {
   "cell_type": "code",
   "execution_count": null,
   "metadata": {},
   "outputs": [
    {
     "name": "stdout",
     "output_type": "stream",
     "text": [
      "dupa3 0\n",
      "dupa3 1\n",
      "dupa1 0\n",
      "dupa2 1\n",
      "dupa3 2\n",
      "dupa3 3\n",
      "dupa3 4\n",
      "dupa3 0\n",
      "dupa3 1\n",
      "dupa3 2\n",
      "dupa3 3\n",
      "dupa4 4\n",
      "dupa3 0\n",
      "dupa4 1\n",
      "dupa4 0\n"
     ]
    },
    {
     "data": {
      "text/plain": [
       "0"
      ]
     },
     "execution_count": 22,
     "metadata": {},
     "output_type": "execute_result"
    }
   ],
   "source": [
    "# @test(\"42\")=42\n",
    "# @test(\" -042\")=-42\n",
    "# @test(\"1337c0d3\")=1337\n",
    "# @test(\"0-1\")=0\n",
    "# @test(\"words and 987\")=0\n",
    "\n",
    "def myAtoi(s: str) -> int:\n",
    "  s = s.strip()\n",
    "  if not s:\n",
    "    return 0\n",
    "  \n",
    "  sign = -1 if s[0] == \"-\" else 1\n",
    "  if s[0] in {'-', '+'}:\n",
    "    s = s[1:]\n",
    "\n",
    "  num = 0\n",
    "  for c in s:\n",
    "    if not c.isdigit():\n",
    "      break\n",
    "    num = num * 10 + int(c)\n",
    "    if sign * num <= -2**31:\n",
    "      return -2**31\n",
    "    if sign * num >= 2**31 -1:\n",
    "      return 2**31 - 1\n",
    "  return sign * num\n",
    "\n",
    "myAtoi(\"42\")\n",
    "myAtoi(\" -042\")\n",
    "myAtoi(\"1337c0d3\")\n",
    "myAtoi(\"0-1\")\n",
    "myAtoi(\"words and 987\")"
   ]
  },
  {
   "cell_type": "code",
   "execution_count": null,
   "metadata": {},
   "outputs": [
    {
     "name": "stdout",
     "output_type": "stream",
     "text": [
      "[[-2, 'c'], [-1, 'b']]  a -3\n",
      "[[-2, 'c'], [-1, 'b']] a a -2\n",
      "\n",
      "[[-1, 'b']] a c -2\n",
      "[[-2, 'a'], [-1, 'b']] ac c -1\n",
      "\n",
      "[[-1, 'b']] ac a -2\n",
      "[[-1, 'b'], [-1, 'c']] aca a -1\n",
      "\n",
      "[[-1, 'c']] aca b -1\n",
      "[[-1, 'a'], [-1, 'c']] acab b 0\n",
      "\n",
      "[[-1, 'c']] acab a -1\n",
      "[[-1, 'c']] acaba a 0\n",
      "\n",
      "[] acaba c -1\n",
      "[] acabac c 0\n",
      "\n"
     ]
    },
    {
     "data": {
      "text/plain": [
       "'acabac'"
      ]
     },
     "execution_count": 34,
     "metadata": {},
     "output_type": "execute_result"
    }
   ],
   "source": [
    "import heapq\n",
    "from typing import Counter\n",
    "\n",
    "\n",
    "def reorganizeString(s: str) -> str:\n",
    "  count = Counter(s)\n",
    "  maxHeap = [[-cnt, char] for char, cnt in count.items()]\n",
    "  heapq.heapify(maxHeap)\n",
    "\n",
    "  prev = None\n",
    "  res = \"\"\n",
    "  while maxHeap or prev:\n",
    "    if prev and not maxHeap:\n",
    "      return \"\"\n",
    "    \n",
    "    cnt, char = heapq.heappop(maxHeap)\n",
    "    print(maxHeap, res, char, cnt)\n",
    "    res += char\n",
    "    cnt += 1\n",
    "\n",
    "    if prev:\n",
    "      heapq.heappush(maxHeap, prev)\n",
    "      prev = None\n",
    "    if cnt != 0:\n",
    "      prev = [cnt, char]\n",
    "    print(maxHeap, res, char, cnt)\n",
    "    print()\n",
    "  return res\n",
    "\n",
    "# reorganizeString(\"aab\")\n",
    "# reorganizeString(\"aaab\")\n",
    "reorganizeString(\"aaabcc\")"
   ]
  },
  {
   "cell_type": "code",
   "execution_count": 12,
   "metadata": {},
   "outputs": [
    {
     "ename": "IndexError",
     "evalue": "list assignment index out of range",
     "output_type": "error",
     "traceback": [
      "\u001b[0;31m---------------------------------------------------------------------------\u001b[0m",
      "\u001b[0;31mIndexError\u001b[0m                                Traceback (most recent call last)",
      "Cell \u001b[0;32mIn[12], line 2\u001b[0m\n\u001b[1;32m      1\u001b[0m text \u001b[38;5;241m=\u001b[39m [\u001b[38;5;124m\"\u001b[39m\u001b[38;5;124m\"\u001b[39m] \u001b[38;5;241m*\u001b[39m \u001b[38;5;241m5\u001b[39m\n\u001b[0;32m----> 2\u001b[0m \u001b[43mtext\u001b[49m\u001b[43m[\u001b[49m\u001b[38;5;241;43m5\u001b[39;49m\u001b[43m]\u001b[49m \u001b[38;5;241m=\u001b[39m \u001b[38;5;124m\"\u001b[39m\u001b[38;5;124mo\u001b[39m\u001b[38;5;124m\"\u001b[39m\n\u001b[1;32m      3\u001b[0m \u001b[38;5;28mprint\u001b[39m(text)\n\u001b[1;32m      4\u001b[0m \u001b[38;5;28mprint\u001b[39m(text)\n",
      "\u001b[0;31mIndexError\u001b[0m: list assignment index out of range"
     ]
    }
   ],
   "source": [
    "text = [\"\"] * 5\n",
    "text[5] = \"o\"\n",
    "print(text)\n",
    "print(text)"
   ]
  },
  {
   "cell_type": "code",
   "execution_count": 27,
   "metadata": {},
   "outputs": [
    {
     "data": {
      "text/plain": [
       "[['E', 'E', 'E', 'E', 'E'],\n",
       " ['E', 'E', 'M', 'E', 'E'],\n",
       " ['E', 'E', 'E', 'E', 'E'],\n",
       " ['B', 'E', 'E', 'E', 'E']]"
      ]
     },
     "execution_count": 27,
     "metadata": {},
     "output_type": "execute_result"
    }
   ],
   "source": [
    "from typing import List\n",
    "\n",
    "\n",
    "def updateBoard(board: List[List[str]], click: List[int]) -> List[List[str]]:\n",
    "  def reveal(i: int, j: int):\n",
    "    mine_count = 0\n",
    "    for x in range(max(i - 1, 0), min(j + 1, rows)):\n",
    "      for y in range(max(j - 1, 0), min(j + 1, cols)):\n",
    "        if board[x][y] == \"M\":\n",
    "          mine_count += 1\n",
    "    \n",
    "    if mine_count > 0:\n",
    "      board[i][j] = str(mine_count)\n",
    "    else:\n",
    "      board[i][j] = \"B\"\n",
    "      for x in range(max(i - 1, 0), min(j + 1, rows)):\n",
    "        for y in range(max(j - 1, 0), min(j + 1, cols)):\n",
    "          if board[x][y] == \"E\":\n",
    "            reveal(x, y)\n",
    "\n",
    "  rows, cols = len(board), len(board[0])\n",
    "  click_row, click_col = click\n",
    "\n",
    "  if board[click_row][click_col] == \"M\":\n",
    "    board[click_row][click_col] = \"X\"\n",
    "  else:\n",
    "    reveal(click_row, click_col)\n",
    "  \n",
    "  return board\n",
    "\n",
    "updateBoard(board = [[\"E\",\"E\",\"E\",\"E\",\"E\"],[\"E\",\"E\",\"M\",\"E\",\"E\"],[\"E\",\"E\",\"E\",\"E\",\"E\"],[\"E\",\"E\",\"E\",\"E\",\"E\"]], click = [3,0])\n"
   ]
  },
  {
   "cell_type": "code",
   "execution_count": 5,
   "metadata": {},
   "outputs": [
    {
     "data": {
      "text/plain": [
       "[[0, 4], [1, 3], [1, 4], [2, 2], [3, 0], [3, 1], [4, 0]]"
      ]
     },
     "execution_count": 5,
     "metadata": {},
     "output_type": "execute_result"
    }
   ],
   "source": [
    "from typing import List\n",
    "\n",
    "def pacificAtlantic(heights: List[List[int]]) -> List[List[int]]:\n",
    "  ROWS, COLS = len(heights), len(heights[0])\n",
    "  pac, atl = set(), set()\n",
    "\n",
    "  def dfs(r, c, visit, prevHeight):\n",
    "    if ((r,c) in visit or\n",
    "        r < 0 or c < 0 or r == ROWS or c == COLS or\n",
    "        heights[r][c] < prevHeight):\n",
    "      return\n",
    "    visit.add((r, c))\n",
    "    dfs(r + 1, c, visit, heights[r][c])\n",
    "    dfs(r - 1, c, visit, heights[r][c])\n",
    "    dfs(r, c + 1, visit, heights[r][c])\n",
    "    dfs(r, c - 1, visit, heights[r][c])\n",
    "\n",
    "  for c in range(COLS):\n",
    "    dfs(0, c, pac, heights[0][c])\n",
    "    dfs(ROWS - 1, c, atl, heights[ROWS - 1][c])\n",
    "  \n",
    "  for r in range(ROWS):\n",
    "    dfs(r, 0, pac, heights[r][0])\n",
    "    dfs(r, COLS - 1, atl, heights[r][COLS - 1])\n",
    "  \n",
    "  res = []\n",
    "  for r in range(ROWS):\n",
    "    for c in range(COLS):\n",
    "      if (r, c) in pac and (r, c) in atl:\n",
    "        res.append([r,c])\n",
    "  return res\n",
    "\n",
    "pacificAtlantic([[1,2,2,3,5],[3,2,3,4,4],[2,4,5,3,1],[6,7,1,4,5],[5,1,1,2,4]])"
   ]
  },
  {
   "cell_type": "code",
   "execution_count": 12,
   "metadata": {},
   "outputs": [
    {
     "data": {
      "text/plain": [
       "[[2, 2, 3], [7]]"
      ]
     },
     "execution_count": 12,
     "metadata": {},
     "output_type": "execute_result"
    }
   ],
   "source": [
    "from typing import List\n",
    "\n",
    "def combinationSum(candidates: List[int], target: int) -> List[List[int]]:\n",
    "  res = []\n",
    "\n",
    "  def dfs(i, cur, total):\n",
    "    if total == target:\n",
    "      res.append(cur[:])\n",
    "      return\n",
    "    if i >= len(candidates) or total > target:\n",
    "      return\n",
    "    \n",
    "    cur.append(candidates[i])\n",
    "    dfs(i, cur, total + candidates[i])\n",
    "    cur.pop()\n",
    "    dfs(i + 1, cur, total)\n",
    "\n",
    "  dfs(0, [], 0)\n",
    "\n",
    "  return res\n",
    "\n",
    "combinationSum(candidates = [2,3,6,7], target = 7)\n",
    "# combinationSum(candidates = [2,3,5], target = 8)\n",
    "# combinationSum(candidates = [2], target = 1)"
   ]
  },
  {
   "cell_type": "code",
   "execution_count": null,
   "metadata": {},
   "outputs": [],
   "source": []
  }
 ],
 "metadata": {
  "kernelspec": {
   "display_name": "usr",
   "language": "python",
   "name": "python3"
  },
  "language_info": {
   "codemirror_mode": {
    "name": "ipython",
    "version": 3
   },
   "file_extension": ".py",
   "mimetype": "text/x-python",
   "name": "python",
   "nbconvert_exporter": "python",
   "pygments_lexer": "ipython3",
   "version": "3.12.3"
  }
 },
 "nbformat": 4,
 "nbformat_minor": 2
}
