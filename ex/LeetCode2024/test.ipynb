{
 "cells": [
  {
   "cell_type": "code",
   "execution_count": 25,
   "metadata": {},
   "outputs": [
    {
     "name": "stdout",
     "output_type": "stream",
     "text": [
      "[]\n",
      "[1]\n",
      "[1, 2]\n",
      "1\n"
     ]
    }
   ],
   "source": [
    "import random\n",
    "\n",
    "class RandomizedSet:\n",
    "\n",
    "    def __init__(self):\n",
    "      self.nums = []\n",
    "      self.length = len(self.nums)\n",
    "\n",
    "    def insert(self, val: int) -> bool:\n",
    "      if val in self.nums:\n",
    "        return False\n",
    "      else:\n",
    "        self.nums.append(val)\n",
    "        return True\n",
    "\n",
    "    def remove(self, val: int) -> bool:\n",
    "      if val in self.nums:\n",
    "        self.nums.remove(val)\n",
    "        return True\n",
    "      else:\n",
    "        return False\n",
    "\n",
    "    def getRandom(self) -> int:\n",
    "      if len(self.nums) >= 1:\n",
    "        return random.choice(self.nums)\n",
    "\n",
    "randomizedSet = RandomizedSet()\n",
    "print(randomizedSet.nums)\n",
    "randomizedSet.insert(1)\n",
    "randomizedSet.insert(2)\n",
    "randomizedSet.remove(2)\n",
    "print(randomizedSet.nums)\n",
    "randomizedSet.insert(2)\n",
    "print(randomizedSet.nums)\n",
    "print(randomizedSet.getRandom())"
   ]
  },
  {
   "cell_type": "code",
   "execution_count": null,
   "metadata": {},
   "outputs": [
    {
     "name": "stdout",
     "output_type": "stream",
     "text": [
      "5\n"
     ]
    }
   ],
   "source": [
    "def binary_search(arr, x):\n",
    "  low = 0\n",
    "  high = len(arr) - 1\n",
    "  mid = 0\n",
    "\n",
    "  while low <= high:\n",
    "    mid = (high + low) // 2\n",
    "    if arr[mid] < x:\n",
    "      low = mid + 1\n",
    "    elif arr[mid] > x:\n",
    "      high = mid - 1\n",
    "    else:\n",
    "      return mid\n",
    "  return -1\n",
    "\n",
    "\n",
    "arr = [1,10,23,45,65,877,9778]\n",
    "\n",
    "x = 877\n",
    "\n",
    "result = binary_search(arr, x)\n",
    "print(result)"
   ]
  },
  {
   "cell_type": "code",
   "execution_count": 5,
   "metadata": {},
   "outputs": [
    {
     "name": "stdout",
     "output_type": "stream",
     "text": [
      "4\n"
     ]
    }
   ],
   "source": [
    "def binary_search(arr, x):\n",
    "  low = 0\n",
    "  high = len(arr) - 1\n",
    "  mid = 0\n",
    "\n",
    "  while low <= high:\n",
    "    mid = (high + low) // 2\n",
    "    if arr[mid] < x:\n",
    "      low = mid + 1\n",
    "    elif arr[mid] > x:\n",
    "      high = mid - 1\n",
    "    else:\n",
    "      return mid\n",
    "  return -1\n",
    "\n",
    "nums = [1,23,34,45,67,88,99,100]\n",
    "\n",
    "result = binary_search(nums, 67)\n",
    "print(result)\n"
   ]
  },
  {
   "cell_type": "code",
   "execution_count": null,
   "metadata": {},
   "outputs": [
    {
     "name": "stdout",
     "output_type": "stream",
     "text": [
      "3\n",
      "4 1 5\n",
      "8 2 1\n",
      "7 3 2\n",
      "6 4 3\n",
      "5 5 4\n",
      "4\n"
     ]
    }
   ],
   "source": [
    "gas = [1,2,3,4,5]\n",
    "cost = [3,4,5,1,2]\n",
    "# gas = [2,3,4]\n",
    "# cost = [3,4,3]\n",
    "\n",
    "journey_start = cost.index(min(cost))\n",
    "length = len(gas)\n",
    "print(journey_start)\n",
    "\n",
    "journey = gas[journey_start]\n",
    "for i in range(journey_start, length + journey_start):\n",
    "  print(journey, cost[i % length], gas[(i + 1) % length])\n",
    "  journey -= cost[i % length] \n",
    "  if journey < 0:\n",
    "    return -1\n",
    "  journey += gas[(i + 1) % length]\n",
    "  \n",
    "return journey\n"
   ]
  },
  {
   "cell_type": "code",
   "execution_count": 19,
   "metadata": {},
   "outputs": [
    {
     "name": "stdout",
     "output_type": "stream",
     "text": [
      "10\n"
     ]
    }
   ],
   "source": [
    "def binary_search(arr, x):\n",
    "  low = 0\n",
    "  high = len(arr) - 1\n",
    "  mid = 0\n",
    "\n",
    "  while low <= high:\n",
    "    mid = (low + high) // 2\n",
    "    if x > arr[mid]:\n",
    "      low = mid + 1\n",
    "    elif x < arr[mid]:\n",
    "      high = mid - 1\n",
    "    else:\n",
    "      return mid\n",
    "  return -1\n",
    "\n",
    "arr = [1,2,3,4,5,6,7,8,9,111,222,333,456]\n",
    "\n",
    "\n",
    "print(binary_search(arr, 222))"
   ]
  },
  {
   "cell_type": "code",
   "execution_count": 14,
   "metadata": {},
   "outputs": [],
   "source": [
    "# ratings = [1,2,2]\n",
    "ratings = [1, 0, 2]\n",
    "candies = [1] * len(ratings)\n",
    "\n",
    "# if ratings[0] > ratings[1]:\n",
    "#   candies[0] += 1\n",
    "# if ratings[-1] > ratings[-2]:\n",
    "#   candies[-1] += 1\n",
    "\n",
    "# for i in range(1, len(ratings) - 1):\n",
    "#   ratings[i]\n",
    "#   if ratings[i - 1] < ratings[i] > ratings[i + 1]:\n",
    "#     candies[i] = 1\n",
    "\n",
    "# print(ratings, candies)\n"
   ]
  },
  {
   "cell_type": "code",
   "execution_count": null,
   "metadata": {},
   "outputs": [
    {
     "name": "stdout",
     "output_type": "stream",
     "text": [
      "1\n",
      "1\n",
      "2\n",
      "[1, 1, 2]\n"
     ]
    }
   ],
   "source": [
    "for i in range(1, len(ratings) - 1):\n",
    "  if ratings[i] > 1:\n",
    "    candies[i] *= ratings[i]\n",
    "  print(candies[i])\n",
    "  \n",
    "\n",
    "print(candies)"
   ]
  },
  {
   "cell_type": "code",
   "execution_count": 17,
   "metadata": {},
   "outputs": [
    {
     "name": "stdout",
     "output_type": "stream",
     "text": [
      "11\n"
     ]
    }
   ],
   "source": [
    "def binary_search(arr, x):\n",
    "  low = 0\n",
    "  high = len(arr)\n",
    "  mid = 0\n",
    "\n",
    "  while low < high:\n",
    "    mid = (low + high) // 2\n",
    "    if arr[mid] < x:\n",
    "      low = mid + 1\n",
    "    elif arr[mid] > x:\n",
    "      high = mid - 1\n",
    "    else:\n",
    "      return mid\n",
    "  return -1\n",
    "\n",
    "arr = [0,1,2,3,4,5,6,7,8,9,10,12,22,33]\n",
    "\n",
    "print(binary_search(arr, 12))"
   ]
  },
  {
   "cell_type": "code",
   "execution_count": null,
   "metadata": {},
   "outputs": [],
   "source": []
  }
 ],
 "metadata": {
  "kernelspec": {
   "display_name": "usr",
   "language": "python",
   "name": "python3"
  },
  "language_info": {
   "codemirror_mode": {
    "name": "ipython",
    "version": 3
   },
   "file_extension": ".py",
   "mimetype": "text/x-python",
   "name": "python",
   "nbconvert_exporter": "python",
   "pygments_lexer": "ipython3",
   "version": "3.12.3"
  }
 },
 "nbformat": 4,
 "nbformat_minor": 2
}
