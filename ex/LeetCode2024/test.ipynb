{
 "cells": [
  {
   "cell_type": "code",
   "execution_count": 14,
   "metadata": {},
   "outputs": [
    {
     "name": "stdout",
     "output_type": "stream",
     "text": [
      "[[1, 6], [2, 8], [7, 12], [10, 16]]\n"
     ]
    }
   ],
   "source": [
    "points = [[10,16],[2,8],[1,6],[7,12]]\n",
    "\n",
    "points.sort(key = lambda x: x[0])\n",
    "\n",
    "print(points)"
   ]
  },
  {
   "cell_type": "code",
   "execution_count": null,
   "metadata": {},
   "outputs": [
    {
     "name": "stdout",
     "output_type": "stream",
     "text": [
      "0\n"
     ]
    },
    {
     "ename": "Exception",
     "evalue": "TEST JZ: length of an array is 0",
     "output_type": "error",
     "traceback": [
      "\u001b[1;31m---------------------------------------------------------------------------\u001b[0m",
      "\u001b[1;31mException\u001b[0m                                 Traceback (most recent call last)",
      "Cell \u001b[1;32mIn[39], line 9\u001b[0m\n\u001b[0;32m      7\u001b[0m \u001b[38;5;28mprint\u001b[39m(\u001b[38;5;28mlen\u001b[39m(points))\n\u001b[0;32m      8\u001b[0m \u001b[38;5;28;01mif\u001b[39;00m \u001b[38;5;28mlen\u001b[39m(points) \u001b[38;5;241m<\u001b[39m \u001b[38;5;241m1\u001b[39m:\n\u001b[1;32m----> 9\u001b[0m     \u001b[38;5;28;01mraise\u001b[39;00m \u001b[38;5;167;01mException\u001b[39;00m(\u001b[38;5;124m\"\u001b[39m\u001b[38;5;124mTEST JZ: length of an array is 0\u001b[39m\u001b[38;5;124m\"\u001b[39m)\n\u001b[0;32m     11\u001b[0m \u001b[38;5;28;01mif\u001b[39;00m \u001b[38;5;28mlen\u001b[39m(points[\u001b[38;5;241m0\u001b[39m]) \u001b[38;5;241m<\u001b[39m \u001b[38;5;241m1\u001b[39m:\n\u001b[0;32m     12\u001b[0m     \u001b[38;5;28;01mraise\u001b[39;00m \u001b[38;5;167;01mException\u001b[39;00m(\u001b[38;5;124m\"\u001b[39m\u001b[38;5;124mTEST JZ: length of an nested array is 0\u001b[39m\u001b[38;5;124m\"\u001b[39m)\n",
      "\u001b[1;31mException\u001b[0m: TEST JZ: length of an array is 0"
     ]
    }
   ],
   "source": [
    "# points = [[10,16],[2,8],[1,6],[7,12]]\n",
    "# points = [[1,2],[3,4],[5,6],[7,8]]\n",
    "# points = [[1,2],[2,3],[3,4],[4,5]]\n",
    "# points = []\n",
    "# points = [[]]\n",
    "\n",
    "print(len(points))\n",
    "if len(points) < 1:\n",
    "    raise Exception(\"TEST JZ: length of an array is 0\")\n",
    "\n",
    "if len(points[0]) < 1:\n",
    "    raise Exception(\"TEST JZ: length of an nested array is 0\")\n",
    "\n",
    "points.sort(key = lambda x: x[0])\n",
    "\n",
    "current_point = points[0]\n",
    "result = 1\n",
    "\n",
    "\n",
    "for point in points[1:]:\n",
    "    if point[0] <= current_point[1] and point[1] >= current_point[0]:\n",
    "        print(f\"1{current_point}, result: {result}\")\n",
    "    else:\n",
    "        result += 1\n",
    "        current_point = point\n",
    "        print(f\"0{current_point}, result: {result}\")\n",
    "\n"
   ]
  },
  {
   "cell_type": "code",
   "execution_count": null,
   "metadata": {},
   "outputs": [],
   "source": []
  }
 ],
 "metadata": {
  "language_info": {
   "name": "python"
  }
 },
 "nbformat": 4,
 "nbformat_minor": 2
}
