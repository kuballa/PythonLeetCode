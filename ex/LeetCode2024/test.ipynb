{
 "cells": [
  {
   "cell_type": "code",
   "execution_count": null,
   "metadata": {},
   "outputs": [
    {
     "name": "stdout",
     "output_type": "stream",
     "text": [
      "{'A': 1, 'B': 1, 'C': 1} 0 2\n",
      "AD\n"
     ]
    },
    {
     "ename": "TypeError",
     "evalue": "'>=' not supported between instances of 'dict' and 'dict'",
     "output_type": "error",
     "traceback": [
      "\u001b[1;31m---------------------------------------------------------------------------\u001b[0m",
      "\u001b[1;31mTypeError\u001b[0m                                 Traceback (most recent call last)",
      "Cell \u001b[1;32mIn[13], line 24\u001b[0m\n\u001b[0;32m     21\u001b[0m         \u001b[38;5;28mprint\u001b[39m(\u001b[38;5;124m\"\u001b[39m\u001b[38;5;124mdupa\u001b[39m\u001b[38;5;124m\"\u001b[39m)\n\u001b[0;32m     22\u001b[0m         \u001b[38;5;28;01mbreak\u001b[39;00m\n\u001b[1;32m---> 24\u001b[0m \u001b[38;5;28;01mif\u001b[39;00m \u001b[43mchar_freq\u001b[49m\u001b[43m \u001b[49m\u001b[38;5;241;43m>\u001b[39;49m\u001b[38;5;241;43m=\u001b[39;49m\u001b[43m \u001b[49m\u001b[43mtemp_freq\u001b[49m:\n\u001b[0;32m     25\u001b[0m     res \u001b[38;5;241m=\u001b[39m \u001b[38;5;28mmin\u001b[39m(res, word)\n\u001b[0;32m     26\u001b[0m     l \u001b[38;5;241m+\u001b[39m\u001b[38;5;241m=\u001b[39m \u001b[38;5;241m1\u001b[39m\n",
      "\u001b[1;31mTypeError\u001b[0m: '>=' not supported between instances of 'dict' and 'dict'"
     ]
    }
   ],
   "source": [
    "s = \"ADOBECODEBANC\"\n",
    "t = \"ABC\"\n",
    "\n",
    "char_freq = {}\n",
    "for i in t:\n",
    "    char_freq[i] = char_freq.get(i, 0) + 1\n",
    "\n",
    "l = 0\n",
    "r = len(t) - 1\n",
    "res = s\n",
    "print(char_freq, l, r)\n",
    "\n",
    "while l <= r and r <= len(s):\n",
    "    temp_freq = {}\n",
    "    word = s[l:r]\n",
    "    print(word)\n",
    "    for i in word:\n",
    "        if i in char_freq:\n",
    "            temp_freq[i] = temp_freq.get(i, 0) + 1\n",
    "        if char_freq == temp_freq:\n",
    "            print(\"dupa\")\n",
    "            break\n",
    "\n",
    "    if char_freq <= temp_freq:\n",
    "        res = min(res, word)\n",
    "        l += 1\n",
    "    else:\n",
    "        r += 1\n",
    "    print(word, temp_freq, res)\n"
   ]
  },
  {
   "cell_type": "code",
   "execution_count": null,
   "metadata": {},
   "outputs": [],
   "source": []
  }
 ],
 "metadata": {
  "kernelspec": {
   "display_name": "multipleVoices",
   "language": "python",
   "name": "python3"
  },
  "language_info": {
   "codemirror_mode": {
    "name": "ipython",
    "version": 3
   },
   "file_extension": ".py",
   "mimetype": "text/x-python",
   "name": "python",
   "nbconvert_exporter": "python",
   "pygments_lexer": "ipython3",
   "version": "3.12.5"
  }
 },
 "nbformat": 4,
 "nbformat_minor": 2
}
