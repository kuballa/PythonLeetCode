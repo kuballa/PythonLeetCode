{
 "cells": [
  {
   "cell_type": "code",
   "execution_count": null,
   "metadata": {},
   "outputs": [
    {
     "name": "stdout",
     "output_type": "stream",
     "text": [
      "dupa3 0\n",
      "dupa3 1\n",
      "dupa1 0\n",
      "dupa2 1\n",
      "dupa3 2\n",
      "dupa3 3\n",
      "dupa3 4\n",
      "dupa3 0\n",
      "dupa3 1\n",
      "dupa3 2\n",
      "dupa3 3\n",
      "dupa4 4\n",
      "dupa3 0\n",
      "dupa4 1\n",
      "dupa4 0\n"
     ]
    },
    {
     "data": {
      "text/plain": [
       "0"
      ]
     },
     "execution_count": 22,
     "metadata": {},
     "output_type": "execute_result"
    }
   ],
   "source": [
    "# @test(\"42\")=42\n",
    "# @test(\" -042\")=-42\n",
    "# @test(\"1337c0d3\")=1337\n",
    "# @test(\"0-1\")=0\n",
    "# @test(\"words and 987\")=0\n",
    "\n",
    "def myAtoi(s: str) -> int:\n",
    "  s = s.strip()\n",
    "  if not s:\n",
    "    return 0\n",
    "  \n",
    "  sign = -1 if s[0] == \"-\" else 1\n",
    "  if s[0] in {'-', '+'}:\n",
    "    s = s[1:]\n",
    "\n",
    "  num = 0\n",
    "  for c in s:\n",
    "    if not c.isdigit():\n",
    "      break\n",
    "    num = num * 10 + int(c)\n",
    "    if sign * num <= -2**31:\n",
    "      return -2**31\n",
    "    if sign * num >= 2**31 -1:\n",
    "      return 2**31 - 1\n",
    "  return sign * num\n",
    "\n",
    "myAtoi(\"42\")\n",
    "myAtoi(\" -042\")\n",
    "myAtoi(\"1337c0d3\")\n",
    "myAtoi(\"0-1\")\n",
    "myAtoi(\"words and 987\")"
   ]
  },
  {
   "cell_type": "code",
   "execution_count": null,
   "metadata": {},
   "outputs": [],
   "source": []
  }
 ],
 "metadata": {
  "kernelspec": {
   "display_name": "usr",
   "language": "python",
   "name": "python3"
  },
  "language_info": {
   "codemirror_mode": {
    "name": "ipython",
    "version": 3
   },
   "file_extension": ".py",
   "mimetype": "text/x-python",
   "name": "python",
   "nbconvert_exporter": "python",
   "pygments_lexer": "ipython3",
   "version": "3.12.3"
  }
 },
 "nbformat": 4,
 "nbformat_minor": 2
}
