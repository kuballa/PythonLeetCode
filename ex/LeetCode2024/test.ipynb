{
 "cells": [
  {
   "cell_type": "code",
   "execution_count": 26,
   "metadata": {},
   "outputs": [
    {
     "name": "stdout",
     "output_type": "stream",
     "text": [
      "4 {}\n",
      "16 {4: 1}\n",
      "37 {4: 1, 16: 1}\n",
      "58 {4: 1, 16: 1, 37: 1}\n",
      "89 {4: 1, 16: 1, 37: 1, 58: 1}\n",
      "145 {4: 1, 16: 1, 37: 1, 58: 1, 89: 1}\n",
      "42 {4: 1, 16: 1, 37: 1, 58: 1, 89: 1, 145: 1}\n",
      "20 {4: 1, 16: 1, 37: 1, 58: 1, 89: 1, 145: 1, 42: 1}\n",
      "4 {4: 1, 16: 1, 37: 1, 58: 1, 89: 1, 145: 1, 42: 1, 20: 1}\n",
      "hello\n"
     ]
    }
   ],
   "source": [
    "n = 2\n",
    "\n",
    "h_dict = {}\n",
    "\n",
    "while True:\n",
    "  n = sum([pow(int(digit), 2) for digit in str(n)])\n",
    "  if n in h_dict:\n",
    "    break\n",
    "  h_dict[n] = 1\n",
    "  if n == 1:\n",
    "    return True\n",
    "return False\n",
    "  \n"
   ]
  },
  {
   "cell_type": "code",
   "execution_count": 4,
   "metadata": {},
   "outputs": [
    {
     "name": "stdout",
     "output_type": "stream",
     "text": [
      "[435, 46, 457, 4567, 654, 76453, 75436, 54, 7654, 8, 66, 3, 4, 43, 43, 67, 8, 845, 2, 1, 3, 6, 36, 5437, 3457453]\n",
      "[1, 2, 3, 3, 4, 6, 8, 8, 36, 43, 43, 46, 54, 66, 67, 435, 457, 654, 845, 4567, 5437, 7654, 75436, 76453, 3457453]\n",
      "[1, 2, 3, 3, 4, 6, 8, 8, 36, 43, 43, 46, 54, 66, 67, 435, 457, 654, 845, 4567, 5437, 7654, 75436, 76453, 3457453]\n",
      "1\n",
      "0\n",
      "24 24\n"
     ]
    }
   ],
   "source": [
    "def quicksort(arr):\n",
    "  if len(arr) <= 1:\n",
    "    return arr\n",
    "  else:\n",
    "    pivot = arr[0]\n",
    "    left = [x for x in arr[1:] if x < pivot]\n",
    "    right = [x for x in arr[1:] if x >= pivot]\n",
    "    return quicksort(left) + [pivot] + quicksort(right)\n",
    "  \n",
    "def binary_search(arr, x):\n",
    "  low = 0\n",
    "  high = len(arr) - 1\n",
    "  mid = 0\n",
    "\n",
    "  while low <= high:\n",
    "    mid = (low + high) // 2\n",
    "    if arr[mid] < x:\n",
    "      low = mid + 1\n",
    "    elif arr[mid] > x:\n",
    "      high = mid - 1\n",
    "    else:\n",
    "      return mid\n",
    "  return -1\n",
    "\n",
    "def mergeSort(arr):\n",
    "  def merge(left, right):\n",
    "    l, r = 0, 0\n",
    "    res = []\n",
    "\n",
    "    while l < len(left) and r < len(right):\n",
    "      if left[l] < right[r]:\n",
    "        res.append(left[l])\n",
    "        l += 1\n",
    "      else:\n",
    "        res.append(right[r])\n",
    "        r += 1\n",
    "      \n",
    "    res.extend(left[l:])\n",
    "    res.extend(right[r:])\n",
    "    return res\n",
    "  \n",
    "  if len(arr) <= 1:\n",
    "    return arr\n",
    "  \n",
    "  mid = len(arr) // 2\n",
    "  leftHalf = arr[:mid]\n",
    "  rightHalf = arr[mid:]\n",
    "\n",
    "  sortedLeft = mergeSort(leftHalf)\n",
    "  sortedRight = mergeSort(rightHalf)\n",
    "\n",
    "  return merge(sortedLeft, sortedRight)\n",
    "\n",
    "arr = [435,46,457,4567,654,76453,75436,54,7654,8,66,3,4,43,43,67,8,845,2,1,3,6,36,5437,3457453]\n",
    "print(arr)\n",
    "qs_arr = quicksort(arr)\n",
    "print(qs_arr)\n",
    "ms_arr = mergeSort(arr)\n",
    "print(ms_arr)\n",
    "print(binary_search(ms_arr, 2))\n",
    "print(binary_search(ms_arr, 1))\n",
    "print(binary_search(ms_arr, 3457453), len(arr) - 1)"
   ]
  },
  {
   "cell_type": "code",
   "execution_count": 5,
   "metadata": {},
   "outputs": [
    {
     "name": "stdout",
     "output_type": "stream",
     "text": [
      "BFS algorithm in graph:  [[1, 2], [0, 3, 4], [0, 4], [1], [1, 2]]\n",
      "01234\n",
      "DFS algorithm in graph:  [[1, 2], [0, 3, 4], [0, 4], [1], [1, 2]]\n",
      "01342"
     ]
    }
   ],
   "source": [
    "from collections import deque\n",
    "\n",
    "def bfs(adj, s):\n",
    "  q = deque()\n",
    "  q.append(s)\n",
    "\n",
    "  visited = [False] * len(adj)\n",
    "  visited[s] = True\n",
    "\n",
    "  while q:\n",
    "    curr = q.popleft()\n",
    "    print(curr, end=\"\")\n",
    "\n",
    "    for x in adj[curr]:\n",
    "      if not visited[x]:\n",
    "        q.append(x)\n",
    "        visited[x] = True\n",
    "\n",
    "def dfs_rec(adj, visited, s):\n",
    "  visited[s] = True\n",
    "  print(s, end=\"\")\n",
    "\n",
    "  for x in adj[s]:\n",
    "    if not visited[x]:\n",
    "      dfs_rec(adj, visited, x)\n",
    "\n",
    "def dfs(adj, s):\n",
    "  visited = [False] * len(adj)\n",
    "  if not visited[s]:\n",
    "    dfs_rec(adj, visited, s)\n",
    "\n",
    "def add_edge(adj, u, v):\n",
    "  adj[u].append(v)\n",
    "  adj[v].append(u)\n",
    "\n",
    "V = 5\n",
    "adj = [[] for _ in range(V)]\n",
    "\n",
    "edges = [[0,1],[0,2],[1,3],[1,4],[2,4]]\n",
    "\n",
    "for edge in edges:\n",
    "  add_edge(adj, edge[0], edge[1])\n",
    "\n",
    "print(\"BFS algorithm in graph: \", adj)\n",
    "bfs(adj, 0)\n",
    "print()\n",
    "print(\"DFS algorithm in graph: \", adj)\n",
    "dfs(adj, 0)\n"
   ]
  },
  {
   "cell_type": "code",
   "execution_count": 24,
   "metadata": {},
   "outputs": [
    {
     "name": "stdout",
     "output_type": "stream",
     "text": [
      "[['eat', 'tea', 'ate'], ['tan', 'nat'], ['bat']]\n"
     ]
    }
   ],
   "source": [
    "strs = [\"eat\",\"tea\",\"tan\",\"ate\",\"nat\",\"bat\"]\n",
    "s_dict = {}\n",
    "\n",
    "\n",
    "for s in strs:\n",
    "  if \"\".join(sorted(s)) in s_dict:\n",
    "    s_dict[\"\".join(sorted(s))].append(s)\n",
    "  else:\n",
    "    s_dict[\"\".join(sorted(s))] = []\n",
    "    s_dict[\"\".join(sorted(s))].append(s)\n",
    "\n",
    "result = []\n",
    "for k in s_dict:\n",
    "  result.append(s_dict[k])\n",
    "\n",
    "print(result)"
   ]
  },
  {
   "cell_type": "code",
   "execution_count": null,
   "metadata": {},
   "outputs": [],
   "source": []
  }
 ],
 "metadata": {
  "kernelspec": {
   "display_name": "usr",
   "language": "python",
   "name": "python3"
  },
  "language_info": {
   "codemirror_mode": {
    "name": "ipython",
    "version": 3
   },
   "file_extension": ".py",
   "mimetype": "text/x-python",
   "name": "python",
   "nbconvert_exporter": "python",
   "pygments_lexer": "ipython3",
   "version": "3.12.3"
  }
 },
 "nbformat": 4,
 "nbformat_minor": 2
}
