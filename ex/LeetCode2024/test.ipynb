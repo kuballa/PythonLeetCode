{
 "cells": [
  {
   "cell_type": "code",
   "execution_count": 2,
   "metadata": {},
   "outputs": [
    {
     "name": "stdout",
     "output_type": "stream",
     "text": [
      "9\n"
     ]
    }
   ],
   "source": [
    "def binary_search(arr, x):\n",
    "  low = 0\n",
    "  high = len(arr)\n",
    "  mid = 0\n",
    "\n",
    "  while low < high:\n",
    "    mid = (low + high) // 2\n",
    "    if arr[mid] < x:\n",
    "      low = mid - 1\n",
    "    elif arr[mid] > x:\n",
    "      high = mid + 1\n",
    "    else:\n",
    "      return mid\n",
    "  return -1\n",
    "\n",
    "arr = [1,2,3,4,5,6,7,8,9,14,16,17,22,45,89]\n",
    "\n",
    "print(binary_search(arr, 14))"
   ]
  },
  {
   "cell_type": "code",
   "execution_count": 3,
   "metadata": {},
   "outputs": [
    {
     "name": "stdout",
     "output_type": "stream",
     "text": [
      "[7, 32, 45, 75, 436, 734, 754, 754, 765, 6587, 8635, 45645, 67543, 74563, 78634, 873474, 4567354]\n"
     ]
    }
   ],
   "source": [
    "def quicksort(arr):\n",
    "  if len(arr) <= 1:\n",
    "    return arr\n",
    "  else:\n",
    "    pivot = arr[0]\n",
    "    left = [x for x in arr[1:] if x < pivot]\n",
    "    right = [x for x in arr[1:] if x >= pivot]\n",
    "    return quicksort(left) + [pivot] + quicksort(right)\n",
    "\n",
    "\n",
    "arr = [32,45,436,45645,754,67543,74563,75,7,6587,4567354,765,8635,754,734,78634,873474]\n",
    "\n",
    "print(quicksort(arr))"
   ]
  },
  {
   "cell_type": "code",
   "execution_count": null,
   "metadata": {},
   "outputs": [
    {
     "name": "stdout",
     "output_type": "stream",
     "text": [
      "4\n"
     ]
    }
   ],
   "source": [
    "strs = [\"flower\",\"flow\",\"flight\"]\n",
    "\n",
    "min_length = 200\n",
    "for i in strs:\n",
    "  min_length = min(len(i), min_length)\n",
    "print(min_length)\n",
    "\n",
    "prefix = ''\n",
    "character = ''\n",
    "flag = True\n",
    "for i in range(min_length):\n",
    "  character = strs[0][i]\n",
    "  for j in range(len(strs)):\n",
    "    if character != strs[j][i]:\n",
    "      flag = False\n",
    "  if flag:\n",
    "    prefix += strs[0][i]\n",
    "  else:\n",
    "    break\n",
    "  \n",
    "return prefix\n",
    "\n",
    "    "
   ]
  },
  {
   "cell_type": "code",
   "execution_count": 9,
   "metadata": {},
   "outputs": [
    {
     "name": "stdout",
     "output_type": "stream",
     "text": [
      "[5, 36, 43, 65, 432, 435, 436, 534, 3425, 3426, 4342, 5432, 5432, 5634, 6432, 6432, 32432]\n",
      "16\n"
     ]
    }
   ],
   "source": [
    "def quicksort(arr):\n",
    "  if len(arr) <= 1:\n",
    "    return arr\n",
    "  else:\n",
    "    pivot = arr[0]\n",
    "    left = [x for x in arr[1:] if x < pivot]\n",
    "    right = [x for x in arr[1:] if x >= pivot]\n",
    "    return quicksort(left) + [pivot] + quicksort(right)\n",
    "\n",
    "def binary_search(arr, x):\n",
    "  low = 0\n",
    "  high = len(arr) - 1\n",
    "  mid = 0\n",
    "\n",
    "  while low <= high:\n",
    "    mid = (low + high) // 2\n",
    "    if arr[mid] < x:\n",
    "      low = mid + 1\n",
    "    elif arr[mid] > x:\n",
    "      high = mid - 1\n",
    "    else:\n",
    "      return mid\n",
    "  return -1\n",
    "\n",
    "arr = [32432,4342,534,5634,65,436,3426,36,3425,43,5432,5,435,432,6432,6432,5432]\n",
    "\n",
    "arr = quicksort(arr)\n",
    "print(arr)\n",
    "print(binary_search(arr, 32432))\n"
   ]
  },
  {
   "cell_type": "code",
   "execution_count": 8,
   "metadata": {},
   "outputs": [
    {
     "name": "stdout",
     "output_type": "stream",
     "text": [
      "['', '', 'hello', 'world', '', '']\n",
      "<list_reverseiterator object at 0x7b58911e4190>\n",
      "world hello \n"
     ]
    }
   ],
   "source": [
    "s = \"the sky is blue\"\n",
    "s = \"  hello world  \"\n",
    "words = s.split(\" \")\n",
    "print(words)\n",
    "rev_words = reversed(words)\n",
    "print(rev_words)\n",
    "output = ''\n",
    "for i in rev_words:\n",
    "  if len(i) > 0:\n",
    "    output += i + \" \"\n",
    "print(output)"
   ]
  },
  {
   "cell_type": "code",
   "execution_count": 15,
   "metadata": {},
   "outputs": [
    {
     "name": "stdout",
     "output_type": "stream",
     "text": [
      "[3, 324, 235, 432543, 26, 3457, 45367, 568, 758, 356, 378, 5648, 45673]\n",
      "[3, 26, 235, 324, 356, 378, 568, 758, 3457, 5648, 45367, 45673, 432543]\n",
      "12\n"
     ]
    }
   ],
   "source": [
    "def quicksort(arr):\n",
    "  if len(arr) <= 1:\n",
    "    return arr\n",
    "  else:\n",
    "    pivot = arr[0]\n",
    "    left = [x for x in arr[1:] if x < pivot]\n",
    "    right = [x for x in arr[1:] if x >= pivot]\n",
    "    return quicksort(left) + [pivot] + quicksort(right)\n",
    "  \n",
    "def binary_search(arr, x):\n",
    "  low = 0\n",
    "  high = len(arr) - 1\n",
    "  mid = 0\n",
    "\n",
    "  while low <= high:\n",
    "    mid = (low + high) // 2\n",
    "    if arr[mid] < x:\n",
    "      low = mid + 1\n",
    "    elif arr[mid] > x:\n",
    "      high = mid - 1\n",
    "    else:\n",
    "      return mid\n",
    "  return -1\n",
    "\n",
    "arr = [3,324,235,432543,26,3457,45367,568,758,356,378,5648,45673]\n",
    "\n",
    "print(arr)\n",
    "arr = quicksort(arr)\n",
    "print(arr)\n",
    "print(binary_search(arr, 432543))"
   ]
  },
  {
   "cell_type": "code",
   "execution_count": null,
   "metadata": {},
   "outputs": [
    {
     "name": "stdout",
     "output_type": "stream",
     "text": [
      "4\n",
      "4\n",
      "4\n",
      "PAHNAPLSIIGYIR\n"
     ]
    }
   ],
   "source": [
    "s = \"PAYPALISHIRING\"\n",
    "numRows = 3\n",
    "\n",
    "if numRows == 1: print(s)\n",
    "\n",
    "res = \"\"\n",
    "for r in range(numRows):\n",
    "    increment = 2 * (numRows - 1)\n",
    "    for i in range(r, len(s), increment):\n",
    "        res += s[i]\n",
    "        if (r > 0 and r < numRows - 1 and\n",
    "            i + increment - 2 * r < len(s)):\n",
    "            res += s[i + increment - 2 * r]\n",
    "print(res)"
   ]
  },
  {
   "cell_type": "code",
   "execution_count": 4,
   "metadata": {},
   "outputs": [
    {
     "name": "stdout",
     "output_type": "stream",
     "text": [
      "[32423, 52436, 346, 456, 56, 54, 654, 6432, 524, 5, 4236, 5426, 54765, 8456, 74, 6]\n",
      "[5, 6, 54, 56, 74, 346, 456, 524, 654, 4236, 5426, 6432, 8456, 32423, 52436, 54765]\n",
      "0\n"
     ]
    }
   ],
   "source": [
    "def quicksort(arr):\n",
    "  if len(arr) <= 1:\n",
    "    return arr\n",
    "  else:\n",
    "    pivot = arr[0]\n",
    "    left = [x for x in arr[1:] if x < pivot]\n",
    "    right = [x for x in arr[1:] if x >= pivot]\n",
    "    return quicksort(left) + [pivot] + quicksort(right)\n",
    "  \n",
    "def binary_search(arr, x):\n",
    "  low = 0\n",
    "  high = len(arr) - 1\n",
    "  mid = 0\n",
    "\n",
    "  while low <= high:\n",
    "    mid = (low + high) // 2\n",
    "    if arr[mid] < x:\n",
    "      low = mid + 1\n",
    "    elif arr[mid] > x:\n",
    "      high = mid - 1\n",
    "    else:\n",
    "      return mid\n",
    "  return -1\n",
    "\n",
    "arr = [32423,52436,346,456,56,54,654,6432,524,5,4236,5426,54765,8456,74,6]\n",
    "\n",
    "print(arr)\n",
    "arr = quicksort(arr)\n",
    "print(arr)\n",
    "print(binary_search(arr, 5))\n",
    "\n",
    "\n",
    "\n",
    "\n",
    "\n",
    "\n"
   ]
  },
  {
   "cell_type": "code",
   "execution_count": null,
   "metadata": {},
   "outputs": [],
   "source": []
  }
 ],
 "metadata": {
  "kernelspec": {
   "display_name": "usr",
   "language": "python",
   "name": "python3"
  },
  "language_info": {
   "codemirror_mode": {
    "name": "ipython",
    "version": 3
   },
   "file_extension": ".py",
   "mimetype": "text/x-python",
   "name": "python",
   "nbconvert_exporter": "python",
   "pygments_lexer": "ipython3",
   "version": "3.12.3"
  }
 },
 "nbformat": 4,
 "nbformat_minor": 2
}
