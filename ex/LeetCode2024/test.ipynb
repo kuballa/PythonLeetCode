{
 "cells": [
  {
   "cell_type": "code",
   "execution_count": 2,
   "metadata": {},
   "outputs": [
    {
     "name": "stdout",
     "output_type": "stream",
     "text": [
      "[1, 2]\n"
     ]
    }
   ],
   "source": [
    "nums = [1,1,2]\n",
    "\n",
    "nums = list(set(nums))\n",
    "# nums.sort()\n",
    "\n",
    "print(nums)"
   ]
  },
  {
   "cell_type": "code",
   "execution_count": 7,
   "metadata": {},
   "outputs": [
    {
     "name": "stdout",
     "output_type": "stream",
     "text": [
      "[-11, 1, 2, 2, 2, 2, 3, 3, 4, 4, 5, 56, 5432]\n"
     ]
    }
   ],
   "source": [
    "def quicksort(arr):\n",
    "  if len(arr) <= 1:\n",
    "    return arr\n",
    "  else:\n",
    "    pivot = arr[0]\n",
    "    left = [x for x in arr[1:] if x < pivot]\n",
    "    right = [x for x in arr[1:] if x >= pivot]\n",
    "    return quicksort(left) + [pivot] + quicksort(right)\n",
    "\n",
    "nums = [1,2,4,56,2,3,5432,2,-11,3,2,4,5]\n",
    "nums = quicksort(nums)\n",
    "print(nums)"
   ]
  },
  {
   "cell_type": "code",
   "execution_count": 8,
   "metadata": {},
   "outputs": [
    {
     "name": "stdout",
     "output_type": "stream",
     "text": [
      "[0, 1, 1, 1, 2, 3, 3, 3, 3]\n"
     ]
    }
   ],
   "source": [
    "# nums = [1,1,1,2,2,3]\n",
    "# k = 5\n",
    "nums = [0,0,1,1,1,1,2,3,3]\n",
    "# k = 7\n",
    "i = 2\n",
    "flag = 0\n",
    "while i < len(nums):\n",
    "  if nums[i - 2] == nums[i - 1] and nums[i - 1] == nums[i]:\n",
    "    flag += 1\n",
    "  if flag > 0:\n",
    "    nums[i - flag - 2] = nums[i - 2]\n",
    "    nums[i - flag - 1] = nums[i - 1]\n",
    "    nums[i - flag] = nums[i]\n",
    "  i += 1\n",
    "\n",
    "print(nums)\n"
   ]
  },
  {
   "cell_type": "code",
   "execution_count": null,
   "metadata": {},
   "outputs": [],
   "source": []
  },
  {
   "cell_type": "code",
   "execution_count": 1,
   "metadata": {},
   "outputs": [
    {
     "name": "stdout",
     "output_type": "stream",
     "text": [
      "[1, 1, 2, 2, 2, 2, 3, 4, 4, 4, 4, 5]\n"
     ]
    }
   ],
   "source": [
    "def quicksort(arr):\n",
    "  if len(arr) <= 1:\n",
    "    return arr\n",
    "  else:\n",
    "    pivot = arr[0]\n",
    "    left = [x for x in arr[1:] if x < pivot]\n",
    "    right = [x for x in arr[1:] if x >= pivot]\n",
    "    return quicksort(left) + [pivot] + quicksort(right)\n",
    "  \n",
    "nums = [1,2,4,2,4,3,2,1,4,5,2,4]\n",
    "\n",
    "nums = quicksort(nums)\n",
    "print(nums)"
   ]
  },
  {
   "cell_type": "code",
   "execution_count": null,
   "metadata": {},
   "outputs": [],
   "source": []
  }
 ],
 "metadata": {
  "kernelspec": {
   "display_name": "usr",
   "language": "python",
   "name": "python3"
  },
  "language_info": {
   "codemirror_mode": {
    "name": "ipython",
    "version": 3
   },
   "file_extension": ".py",
   "mimetype": "text/x-python",
   "name": "python",
   "nbconvert_exporter": "python",
   "pygments_lexer": "ipython3",
   "version": "3.12.3"
  }
 },
 "nbformat": 4,
 "nbformat_minor": 2
}
