{
 "cells": [
  {
   "cell_type": "code",
   "execution_count": 25,
   "metadata": {},
   "outputs": [
    {
     "name": "stdout",
     "output_type": "stream",
     "text": [
      "[]\n",
      "[1]\n",
      "[1, 2]\n",
      "1\n"
     ]
    }
   ],
   "source": [
    "import random\n",
    "\n",
    "class RandomizedSet:\n",
    "\n",
    "    def __init__(self):\n",
    "      self.nums = []\n",
    "      self.length = len(self.nums)\n",
    "\n",
    "    def insert(self, val: int) -> bool:\n",
    "      if val in self.nums:\n",
    "        return False\n",
    "      else:\n",
    "        self.nums.append(val)\n",
    "        return True\n",
    "\n",
    "    def remove(self, val: int) -> bool:\n",
    "      if val in self.nums:\n",
    "        self.nums.remove(val)\n",
    "        return True\n",
    "      else:\n",
    "        return False\n",
    "\n",
    "    def getRandom(self) -> int:\n",
    "      if len(self.nums) >= 1:\n",
    "        return random.choice(self.nums)\n",
    "\n",
    "randomizedSet = RandomizedSet()\n",
    "print(randomizedSet.nums)\n",
    "randomizedSet.insert(1)\n",
    "randomizedSet.insert(2)\n",
    "randomizedSet.remove(2)\n",
    "print(randomizedSet.nums)\n",
    "randomizedSet.insert(2)\n",
    "print(randomizedSet.nums)\n",
    "print(randomizedSet.getRandom())"
   ]
  },
  {
   "cell_type": "code",
   "execution_count": null,
   "metadata": {},
   "outputs": [
    {
     "name": "stdout",
     "output_type": "stream",
     "text": [
      "5\n"
     ]
    }
   ],
   "source": [
    "def binary_search(arr, x):\n",
    "  low = 0\n",
    "  high = len(arr) - 1\n",
    "  mid = 0\n",
    "\n",
    "  while low <= high:\n",
    "    mid = (high + low) // 2\n",
    "    if arr[mid] < x:\n",
    "      low = mid + 1\n",
    "    elif arr[mid] > x:\n",
    "      high = mid - 1\n",
    "    else:\n",
    "      return mid\n",
    "  return -1\n",
    "\n",
    "\n",
    "arr = [1,10,23,45,65,877,9778]\n",
    "\n",
    "x = 877\n",
    "\n",
    "result = binary_search(arr, x)\n",
    "print(result)"
   ]
  },
  {
   "cell_type": "code",
   "execution_count": 5,
   "metadata": {},
   "outputs": [
    {
     "name": "stdout",
     "output_type": "stream",
     "text": [
      "4\n"
     ]
    }
   ],
   "source": [
    "def binary_search(arr, x):\n",
    "  low = 0\n",
    "  high = len(arr) - 1\n",
    "  mid = 0\n",
    "\n",
    "  while low <= high:\n",
    "    mid = (high + low) // 2\n",
    "    if arr[mid] < x:\n",
    "      low = mid + 1\n",
    "    elif arr[mid] > x:\n",
    "      high = mid - 1\n",
    "    else:\n",
    "      return mid\n",
    "  return -1\n",
    "\n",
    "nums = [1,23,34,45,67,88,99,100]\n",
    "\n",
    "result = binary_search(nums, 67)\n",
    "print(result)\n"
   ]
  },
  {
   "cell_type": "code",
   "execution_count": null,
   "metadata": {},
   "outputs": [
    {
     "name": "stdout",
     "output_type": "stream",
     "text": [
      "3\n",
      "4 1 5\n",
      "8 2 1\n",
      "7 3 2\n",
      "6 4 3\n",
      "5 5 4\n",
      "4\n"
     ]
    }
   ],
   "source": [
    "gas = [1,2,3,4,5]\n",
    "cost = [3,4,5,1,2]\n",
    "# gas = [2,3,4]\n",
    "# cost = [3,4,3]\n",
    "\n",
    "journey_start = cost.index(min(cost))\n",
    "length = len(gas)\n",
    "print(journey_start)\n",
    "\n",
    "journey = gas[journey_start]\n",
    "for i in range(journey_start, length + journey_start):\n",
    "  print(journey, cost[i % length], gas[(i + 1) % length])\n",
    "  journey -= cost[i % length] \n",
    "  if journey < 0:\n",
    "    return -1\n",
    "  journey += gas[(i + 1) % length]\n",
    "  \n",
    "return journey\n"
   ]
  },
  {
   "cell_type": "code",
   "execution_count": 19,
   "metadata": {},
   "outputs": [
    {
     "name": "stdout",
     "output_type": "stream",
     "text": [
      "10\n"
     ]
    }
   ],
   "source": [
    "def binary_search(arr, x):\n",
    "  low = 0\n",
    "  high = len(arr) - 1\n",
    "  mid = 0\n",
    "\n",
    "  while low <= high:\n",
    "    mid = (low + high) // 2\n",
    "    if x > arr[mid]:\n",
    "      low = mid + 1\n",
    "    elif x < arr[mid]:\n",
    "      high = mid - 1\n",
    "    else:\n",
    "      return mid\n",
    "  return -1\n",
    "\n",
    "arr = [1,2,3,4,5,6,7,8,9,111,222,333,456]\n",
    "\n",
    "\n",
    "print(binary_search(arr, 222))"
   ]
  },
  {
   "cell_type": "code",
   "execution_count": 14,
   "metadata": {},
   "outputs": [],
   "source": [
    "# ratings = [1,2,2]\n",
    "ratings = [1, 0, 2]\n",
    "candies = [1] * len(ratings)\n",
    "\n",
    "# if ratings[0] > ratings[1]:\n",
    "#   candies[0] += 1\n",
    "# if ratings[-1] > ratings[-2]:\n",
    "#   candies[-1] += 1\n",
    "\n",
    "# for i in range(1, len(ratings) - 1):\n",
    "#   ratings[i]\n",
    "#   if ratings[i - 1] < ratings[i] > ratings[i + 1]:\n",
    "#     candies[i] = 1\n",
    "\n",
    "# print(ratings, candies)\n"
   ]
  },
  {
   "cell_type": "code",
   "execution_count": null,
   "metadata": {},
   "outputs": [
    {
     "name": "stdout",
     "output_type": "stream",
     "text": [
      "1\n",
      "1\n",
      "2\n",
      "[1, 1, 2]\n"
     ]
    }
   ],
   "source": [
    "for i in range(1, len(ratings) - 1):\n",
    "  if ratings[i] > 1:\n",
    "    candies[i] *= ratings[i]\n",
    "  print(candies[i])\n",
    "  \n",
    "\n",
    "print(candies)"
   ]
  },
  {
   "cell_type": "code",
   "execution_count": 17,
   "metadata": {},
   "outputs": [
    {
     "name": "stdout",
     "output_type": "stream",
     "text": [
      "11\n"
     ]
    }
   ],
   "source": [
    "def binary_search(arr, x):\n",
    "  low = 0\n",
    "  high = len(arr)\n",
    "  mid = 0\n",
    "\n",
    "  while low < high:\n",
    "    mid = (low + high) // 2\n",
    "    if arr[mid] < x:\n",
    "      low = mid + 1\n",
    "    elif arr[mid] > x:\n",
    "      high = mid - 1\n",
    "    else:\n",
    "      return mid\n",
    "  return -1\n",
    "\n",
    "arr = [0,1,2,3,4,5,6,7,8,9,10,12,22,33]\n",
    "\n",
    "print(binary_search(arr, 12))"
   ]
  },
  {
   "cell_type": "code",
   "execution_count": 19,
   "metadata": {},
   "outputs": [
    {
     "name": "stdout",
     "output_type": "stream",
     "text": [
      "1:\tpeak\t 1 1 1 0\n",
      "2:\tvalley\t 0 1 1 1\n",
      "3:\tpeak\t 2 2 2 1\n",
      "4:\tvalley\t 1 2 2 2\n",
      "5:\tvalley\t 0 2 2 4\n",
      "6:\tpeak\t 1 1 2 5\n",
      "7:\tpeak\t 3 3 3 5\n",
      "8:\tvalley\t 2 3 3 6\n",
      "9:\tvalley\t 1 3 3 8\n",
      "10:\tpeak\t 2 1 3 9\n",
      "11:\tvalley\t 1 1 3 11\n"
     ]
    }
   ],
   "source": [
    "height = [0,1,0,2,1,0,1,3,2,1,2,1]\n",
    "\n",
    "i = 1\n",
    "n = len(height)\n",
    "prev_highest = 0\n",
    "water_sum = 0\n",
    "\n",
    "while i < n:\n",
    "  if height[i - 1] == height[i]:\n",
    "    print(height[i], current_peak, prev_highest, water_sum)\n",
    "    i += 1\n",
    "\n",
    "  current_peak = 0\n",
    "  while i < n and height[i] > height[i - 1]:\n",
    "    current_peak += height[i] - height[i - 1]\n",
    "    if prev_highest > height[i]:\n",
    "      water_sum += prev_highest - height[i]\n",
    "    prev_highest = max(prev_highest, height[i])\n",
    "    print(f\"{i}:\\tpeak\\t\", height[i], current_peak, prev_highest, water_sum)\n",
    "    i += 1\n",
    "  \n",
    "  current_valley = 0\n",
    "  while i < n and height[i] < height[i - 1]:\n",
    "    current_valley += height[i] - height[i - 1] \n",
    "    water_sum += prev_highest - height[i]\n",
    "    print(f\"{i}:\\tvalley\\t\", height[i], current_peak, prev_highest, water_sum)\n",
    "    i += 1"
   ]
  },
  {
   "cell_type": "code",
   "execution_count": 50,
   "metadata": {},
   "outputs": [
    {
     "name": "stdout",
     "output_type": "stream",
     "text": [
      "[(1, 1), (3, 2), (4, 1), (7, 3), (8, 2)]\n",
      "[(2, 0), (4, 1), (7, 3), (8, 2), (11, 1)]\n",
      "[[0, 0], [1, 3], [4, 7]]\n"
     ]
    }
   ],
   "source": [
    "height = [0,1,0,2,1,0,1,3,2,1,2,1]\n",
    "\n",
    "i = 1\n",
    "n = len(height) - 1\n",
    "peaks = []\n",
    "valley = []\n",
    "\n",
    "while i < n:\n",
    "  if height[i - 1] == height[i]:\n",
    "    i += 1\n",
    "\n",
    "  while i < n and height[i] > height[i - 1]:\n",
    "    i += 1\n",
    "    valley.append((i, height[i]))\n",
    "  \n",
    "  while i < n and height[i] < height[i - 1]:\n",
    "    peaks.append((i - 1, height[i - 1]))\n",
    "    i += 1\n",
    "\n",
    "arr = [[0,0]]\n",
    "for i in range(len(peaks) - 1):\n",
    "  if peaks[i][1] < peaks[i + 1][1]:\n",
    "    arr.append([max(peaks[i][0], arr[-1][1]), peaks[i + 1][0]])\n",
    "\n",
    "print(peaks)\n",
    "print(valley)\n",
    "print(arr)"
   ]
  },
  {
   "cell_type": "code",
   "execution_count": 42,
   "metadata": {},
   "outputs": [
    {
     "name": "stdout",
     "output_type": "stream",
     "text": [
      "[1]\n"
     ]
    }
   ],
   "source": [
    "arr = []\n",
    "print(max(arr, [1]))"
   ]
  },
  {
   "cell_type": "code",
   "execution_count": 51,
   "metadata": {},
   "outputs": [
    {
     "name": "stdout",
     "output_type": "stream",
     "text": [
      "10\n"
     ]
    }
   ],
   "source": [
    "def binary_search(arr, x):\n",
    "  low = 0\n",
    "  high = len(arr)\n",
    "  mid = 0\n",
    "\n",
    "  while low < high:\n",
    "    mid = (low + high) // 2\n",
    "    if x > arr[mid]:\n",
    "      low = mid - 1\n",
    "    elif x < arr[mid]:\n",
    "      high = mid + 1\n",
    "    else:\n",
    "      return mid\n",
    "  return -1\n",
    "\n",
    "arr = [0,1,2,3,4,5,6,7,8,9,11,22,33,44,55,66,77,88,99]\n",
    "\n",
    "print(binary_search(arr, 11))\n"
   ]
  },
  {
   "cell_type": "code",
   "execution_count": 55,
   "metadata": {},
   "outputs": [
    {
     "name": "stdout",
     "output_type": "stream",
     "text": [
      "[1, 3, 3, 4, 21, 52, 53, 53, 54, 54, 234, 324, 534, 543, 543, 5345, 324523]\n"
     ]
    }
   ],
   "source": [
    "def quicksort(arr):\n",
    "  if len(arr) <= 1:\n",
    "    return arr\n",
    "  else:\n",
    "    pivot = arr[0]\n",
    "    left = [x for x in arr[1:] if x < pivot]\n",
    "    right = [x for x in arr[1:] if x >= pivot]\n",
    "    return quicksort(left) + [pivot] + quicksort(right)\n",
    "\n",
    "arr = [324,324523,21,534,543,234,5345,52,3,4,54,543,3,54,53,53,1]\n",
    "\n",
    "print(quicksort(arr))"
   ]
  },
  {
   "cell_type": "code",
   "execution_count": null,
   "metadata": {},
   "outputs": [
    {
     "name": "stdout",
     "output_type": "stream",
     "text": [
      "1994\n"
     ]
    }
   ],
   "source": [
    "symbol_dict = {\n",
    "  \"I\": 1\n",
    "  ,\"V\": 5\n",
    "  ,\"X\": 10\n",
    "  ,\"L\": 50\n",
    "  ,\"C\": 100\n",
    "  ,\"D\": 500\n",
    "  ,\"M\": 1000\n",
    "}\n",
    "\n",
    "s = \"MCMXCIV\"\n",
    "\n",
    "sum_roman = 0\n",
    "\n",
    "for i in range(1, len(s)):\n",
    "  if symbol_dict[s[i - 1]] >= symbol_dict[s[i]]:\n",
    "    sum_roman += symbol_dict[s[i - 1]]\n",
    "  else:\n",
    "    sum_roman -= symbol_dict[s[i - 1]]\n",
    "sum_roman += symbol_dict[s[-1]]\n",
    "\n",
    "print(sum_roman)\n",
    "  \n"
   ]
  },
  {
   "cell_type": "code",
   "execution_count": 14,
   "metadata": {},
   "outputs": [
    {
     "name": "stdout",
     "output_type": "stream",
     "text": [
      "8\n"
     ]
    }
   ],
   "source": [
    "def binary_search(arr, x):\n",
    "  low = 0\n",
    "  high = len(arr)\n",
    "  mid = 0\n",
    "\n",
    "  while low < high:\n",
    "    mid = (low + high) // 2\n",
    "    if arr[mid] < x:\n",
    "      low = mid\n",
    "    elif arr[mid] > x:\n",
    "      high = mid\n",
    "    else:\n",
    "      return mid\n",
    "  return -1\n",
    "\n",
    "arr = [1,2,3,4,5,6,7,8,9,13,16,17,23,27,94]\n",
    "\n",
    "print(binary_search(arr, 9))"
   ]
  },
  {
   "cell_type": "code",
   "execution_count": 16,
   "metadata": {},
   "outputs": [
    {
     "ename": "NameError",
     "evalue": "name 'List' is not defined",
     "output_type": "error",
     "traceback": [
      "\u001b[0;31m---------------------------------------------------------------------------\u001b[0m",
      "\u001b[0;31mNameError\u001b[0m                                 Traceback (most recent call last)",
      "Cell \u001b[0;32mIn[16], line 2\u001b[0m\n\u001b[1;32m      1\u001b[0m \u001b[38;5;66;03m# @test([1,2,3,4,5,6,7,8,9,13,16,17,23,27,94],9)=8\u001b[39;00m\n\u001b[0;32m----> 2\u001b[0m \u001b[38;5;28;43;01mclass\u001b[39;49;00m\u001b[43m \u001b[49m\u001b[38;5;21;43;01mSolution\u001b[39;49;00m\u001b[43m:\u001b[49m\n\u001b[1;32m      3\u001b[0m \u001b[43m    \u001b[49m\u001b[38;5;28;43;01mdef\u001b[39;49;00m\u001b[43m \u001b[49m\u001b[38;5;21;43mbinary_search\u001b[39;49m\u001b[43m(\u001b[49m\u001b[38;5;28;43mself\u001b[39;49m\u001b[43m,\u001b[49m\u001b[43m \u001b[49m\u001b[43marr\u001b[49m\u001b[43m:\u001b[49m\u001b[43m \u001b[49m\u001b[43mList\u001b[49m\u001b[43m[\u001b[49m\u001b[38;5;28;43mint\u001b[39;49m\u001b[43m]\u001b[49m\u001b[43m)\u001b[49m\u001b[43m \u001b[49m\u001b[38;5;241;43m-\u001b[39;49m\u001b[38;5;241;43m>\u001b[39;49m\u001b[43m \u001b[49m\u001b[38;5;28;43mint\u001b[39;49m\u001b[43m:\u001b[49m\n\u001b[1;32m      4\u001b[0m \u001b[43m        \u001b[49m\u001b[43mlow\u001b[49m\u001b[43m \u001b[49m\u001b[38;5;241;43m=\u001b[39;49m\u001b[43m \u001b[49m\u001b[38;5;241;43m0\u001b[39;49m\n",
      "Cell \u001b[0;32mIn[16], line 3\u001b[0m, in \u001b[0;36mSolution\u001b[0;34m()\u001b[0m\n\u001b[1;32m      2\u001b[0m \u001b[38;5;28;01mclass\u001b[39;00m \u001b[38;5;21;01mSolution\u001b[39;00m:\n\u001b[0;32m----> 3\u001b[0m     \u001b[38;5;28;01mdef\u001b[39;00m \u001b[38;5;21mbinary_search\u001b[39m(\u001b[38;5;28mself\u001b[39m, arr: \u001b[43mList\u001b[49m[\u001b[38;5;28mint\u001b[39m]) \u001b[38;5;241m-\u001b[39m\u001b[38;5;241m>\u001b[39m \u001b[38;5;28mint\u001b[39m:\n\u001b[1;32m      4\u001b[0m         low \u001b[38;5;241m=\u001b[39m \u001b[38;5;241m0\u001b[39m\n\u001b[1;32m      5\u001b[0m         high \u001b[38;5;241m=\u001b[39m \u001b[38;5;28mlen\u001b[39m(arr)\n",
      "\u001b[0;31mNameError\u001b[0m: name 'List' is not defined"
     ]
    }
   ],
   "source": [
    "# @test([1,2,3,4,5,6,7,8,9,13,16,17,23,27,94],9)=8\n",
    "class Solution:\n",
    "    def binary_search(self, arr: List[int]) -> int:\n",
    "        low = 0\n",
    "        high = len(arr)\n",
    "        mid = 0\n",
    "\n",
    "        while low < high:\n",
    "          mid = (low + high) // 2\n",
    "          if arr[mid] < x:\n",
    "            low = mid\n",
    "          elif arr[mid] > x:\n",
    "            high = mid\n",
    "          else:\n",
    "            return mid\n",
    "        return -1"
   ]
  }
 ],
 "metadata": {
  "kernelspec": {
   "display_name": "usr",
   "language": "python",
   "name": "python3"
  },
  "language_info": {
   "codemirror_mode": {
    "name": "ipython",
    "version": 3
   },
   "file_extension": ".py",
   "mimetype": "text/x-python",
   "name": "python",
   "nbconvert_exporter": "python",
   "pygments_lexer": "ipython3",
   "version": "3.12.3"
  }
 },
 "nbformat": 4,
 "nbformat_minor": 2
}
