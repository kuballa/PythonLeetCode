{
 "cells": [
  {
   "cell_type": "code",
   "execution_count": 2,
   "metadata": {},
   "outputs": [
    {
     "name": "stdout",
     "output_type": "stream",
     "text": [
      "9\n"
     ]
    }
   ],
   "source": [
    "def binary_search(arr, x):\n",
    "  low = 0\n",
    "  high = len(arr)\n",
    "  mid = 0\n",
    "\n",
    "  while low < high:\n",
    "    mid = (low + high) // 2\n",
    "    if arr[mid] < x:\n",
    "      low = mid - 1\n",
    "    elif arr[mid] > x:\n",
    "      high = mid + 1\n",
    "    else:\n",
    "      return mid\n",
    "  return -1\n",
    "\n",
    "arr = [1,2,3,4,5,6,7,8,9,14,16,17,22,45,89]\n",
    "\n",
    "print(binary_search(arr, 14))"
   ]
  },
  {
   "cell_type": "code",
   "execution_count": 3,
   "metadata": {},
   "outputs": [
    {
     "name": "stdout",
     "output_type": "stream",
     "text": [
      "[7, 32, 45, 75, 436, 734, 754, 754, 765, 6587, 8635, 45645, 67543, 74563, 78634, 873474, 4567354]\n"
     ]
    }
   ],
   "source": [
    "def quicksort(arr):\n",
    "  if len(arr) <= 1:\n",
    "    return arr\n",
    "  else:\n",
    "    pivot = arr[0]\n",
    "    left = [x for x in arr[1:] if x < pivot]\n",
    "    right = [x for x in arr[1:] if x >= pivot]\n",
    "    return quicksort(left) + [pivot] + quicksort(right)\n",
    "\n",
    "\n",
    "arr = [32,45,436,45645,754,67543,74563,75,7,6587,4567354,765,8635,754,734,78634,873474]\n",
    "\n",
    "print(quicksort(arr))"
   ]
  },
  {
   "cell_type": "code",
   "execution_count": null,
   "metadata": {},
   "outputs": [
    {
     "name": "stdout",
     "output_type": "stream",
     "text": [
      "4\n"
     ]
    }
   ],
   "source": [
    "strs = [\"flower\",\"flow\",\"flight\"]\n",
    "\n",
    "min_length = 200\n",
    "for i in strs:\n",
    "  min_length = min(len(i), min_length)\n",
    "print(min_length)\n",
    "\n",
    "prefix = ''\n",
    "character = ''\n",
    "flag = True\n",
    "for i in range(min_length):\n",
    "  character = strs[0][i]\n",
    "  for j in range(len(strs)):\n",
    "    if character != strs[j][i]:\n",
    "      flag = False\n",
    "  if flag:\n",
    "    prefix += strs[0][i]\n",
    "  else:\n",
    "    break\n",
    "  \n",
    "return prefix\n",
    "\n",
    "    "
   ]
  },
  {
   "cell_type": "code",
   "execution_count": 9,
   "metadata": {},
   "outputs": [
    {
     "name": "stdout",
     "output_type": "stream",
     "text": [
      "[5, 36, 43, 65, 432, 435, 436, 534, 3425, 3426, 4342, 5432, 5432, 5634, 6432, 6432, 32432]\n",
      "16\n"
     ]
    }
   ],
   "source": [
    "def quicksort(arr):\n",
    "  if len(arr) <= 1:\n",
    "    return arr\n",
    "  else:\n",
    "    pivot = arr[0]\n",
    "    left = [x for x in arr[1:] if x < pivot]\n",
    "    right = [x for x in arr[1:] if x >= pivot]\n",
    "    return quicksort(left) + [pivot] + quicksort(right)\n",
    "\n",
    "def binary_search(arr, x):\n",
    "  low = 0\n",
    "  high = len(arr) - 1\n",
    "  mid = 0\n",
    "\n",
    "  while low <= high:\n",
    "    mid = (low + high) // 2\n",
    "    if arr[mid] < x:\n",
    "      low = mid + 1\n",
    "    elif arr[mid] > x:\n",
    "      high = mid - 1\n",
    "    else:\n",
    "      return mid\n",
    "  return -1\n",
    "\n",
    "arr = [32432,4342,534,5634,65,436,3426,36,3425,43,5432,5,435,432,6432,6432,5432]\n",
    "\n",
    "arr = quicksort(arr)\n",
    "print(arr)\n",
    "print(binary_search(arr, 32432))\n"
   ]
  },
  {
   "cell_type": "code",
   "execution_count": 8,
   "metadata": {},
   "outputs": [
    {
     "name": "stdout",
     "output_type": "stream",
     "text": [
      "['', '', 'hello', 'world', '', '']\n",
      "<list_reverseiterator object at 0x7b58911e4190>\n",
      "world hello \n"
     ]
    }
   ],
   "source": [
    "s = \"the sky is blue\"\n",
    "s = \"  hello world  \"\n",
    "words = s.split(\" \")\n",
    "print(words)\n",
    "rev_words = reversed(words)\n",
    "print(rev_words)\n",
    "output = ''\n",
    "for i in rev_words:\n",
    "  if len(i) > 0:\n",
    "    output += i + \" \"\n",
    "print(output)"
   ]
  },
  {
   "cell_type": "code",
   "execution_count": 15,
   "metadata": {},
   "outputs": [
    {
     "name": "stdout",
     "output_type": "stream",
     "text": [
      "[3, 324, 235, 432543, 26, 3457, 45367, 568, 758, 356, 378, 5648, 45673]\n",
      "[3, 26, 235, 324, 356, 378, 568, 758, 3457, 5648, 45367, 45673, 432543]\n",
      "12\n"
     ]
    }
   ],
   "source": [
    "def quicksort(arr):\n",
    "  if len(arr) <= 1:\n",
    "    return arr\n",
    "  else:\n",
    "    pivot = arr[0]\n",
    "    left = [x for x in arr[1:] if x < pivot]\n",
    "    right = [x for x in arr[1:] if x >= pivot]\n",
    "    return quicksort(left) + [pivot] + quicksort(right)\n",
    "  \n",
    "def binary_search(arr, x):\n",
    "  low = 0\n",
    "  high = len(arr) - 1\n",
    "  mid = 0\n",
    "\n",
    "  while low <= high:\n",
    "    mid = (low + high) // 2\n",
    "    if arr[mid] < x:\n",
    "      low = mid + 1\n",
    "    elif arr[mid] > x:\n",
    "      high = mid - 1\n",
    "    else:\n",
    "      return mid\n",
    "  return -1\n",
    "\n",
    "arr = [3,324,235,432543,26,3457,45367,568,758,356,378,5648,45673]\n",
    "\n",
    "print(arr)\n",
    "arr = quicksort(arr)\n",
    "print(arr)\n",
    "print(binary_search(arr, 432543))"
   ]
  },
  {
   "cell_type": "code",
   "execution_count": null,
   "metadata": {},
   "outputs": [
    {
     "name": "stdout",
     "output_type": "stream",
     "text": [
      "4\n",
      "4\n",
      "4\n",
      "PAHNAPLSIIGYIR\n"
     ]
    }
   ],
   "source": [
    "s = \"PAYPALISHIRING\"\n",
    "numRows = 3\n",
    "\n",
    "if numRows == 1: print(s)\n",
    "\n",
    "res = \"\"\n",
    "for r in range(numRows):\n",
    "    increment = 2 * (numRows - 1)\n",
    "    for i in range(r, len(s), increment):\n",
    "        res += s[i]\n",
    "        if (r > 0 and r < numRows - 1 and\n",
    "            i + increment - 2 * r < len(s)):\n",
    "            res += s[i + increment - 2 * r]\n",
    "print(res)"
   ]
  },
  {
   "cell_type": "code",
   "execution_count": null,
   "metadata": {},
   "outputs": [
    {
     "name": "stdout",
     "output_type": "stream",
     "text": [
      "[32423, 52436, 346, 456, 56, 54, 654, 6432, 524, 5, 4236, 5426, 54765, 8456, 74, 6]\n",
      "[5, 6, 54, 56, 74, 346, 456, 524, 654, 4236, 5426, 6432, 8456, 32423, 52436, 54765]\n",
      "0\n"
     ]
    }
   ],
   "source": [
    "def quicksort(arr):\n",
    "  if len(arr) <= 1:\n",
    "    return arr\n",
    "  else:\n",
    "    pivot = arr[0]\n",
    "    left = [x for x in arr[1:] if x < pivot]\n",
    "    right = [x for x in arr[1:] if x >= pivot]\n",
    "    return quicksort(left) + [pivot] + quicksort(right)\n",
    "  \n",
    "def binary_search(arr, x):\n",
    "  low = 0\n",
    "  high = len(arr) - 1\n",
    "  mid = 0\n",
    "\n",
    "  while low <= high:\n",
    "    mid = (low + high) // 2\n",
    "    if arr[mid] < x:\n",
    "      low = mid + 1\n",
    "    elif arr[mid] > x:\n",
    "      high = mid - 1\n",
    "    else:\n",
    "      return mid\n",
    "  return -1\n",
    "\n",
    "arr = [32423,52436,346,456,56,54,654,6432,524,5,4236,5426,54765,8456,74,6]\n",
    "\n",
    "print(arr)\n",
    "arr = quicksort(arr)\n",
    "print(arr)\n",
    "print(binary_search(arr, 5))"
   ]
  },
  {
   "cell_type": "code",
   "execution_count": 19,
   "metadata": {},
   "outputs": [
    {
     "name": "stdout",
     "output_type": "stream",
     "text": [
      "4\n",
      "-1\n"
     ]
    }
   ],
   "source": [
    "haystack = \"mississippi\"\n",
    "needle = \"issipi\"\n",
    "\n",
    "if len(needle) > len(haystack): print(-1)\n",
    "\n",
    "for i in range(len(haystack)):\n",
    "    if haystack[i] == needle[0] and i + len(needle) < len(haystack):\n",
    "        flag = True\n",
    "        j = 0\n",
    "        while flag:\n",
    "            if haystack[i + j] != needle[j]:\n",
    "                flag = False\n",
    "                break\n",
    "            j += 1\n",
    "            if j == len(needle) - 1:\n",
    "                print(i)\n",
    "print(-1)\n",
    "\n",
    "\n",
    "\n",
    "# for i in range(len(haystack)):\n",
    "#   if haystack[i] == needle[0]:\n",
    "#     flag = True\n",
    "#     j = 1\n",
    "#     while flag:\n",
    "#       if haystack[i + j] != needle[j]:\n",
    "#         flag = False\n",
    "#         break\n",
    "#       j += 1\n",
    "#       if j == len(needle):\n",
    "#         print(i)\n"
   ]
  },
  {
   "cell_type": "code",
   "execution_count": 45,
   "metadata": {},
   "outputs": [
    {
     "name": "stdout",
     "output_type": "stream",
     "text": [
      "5\n",
      "8\n",
      "11\n",
      "18 ['This', 'is', 'an']\n",
      "7\n",
      "10\n",
      "15\n",
      "29 ['example', 'of', 'text']\n",
      "14\n",
      "{0: (8, ['This', 'is', 'an']), 1: (13, ['example', 'of', 'text']), 2: (14, ['justification.'])}\n",
      "4.0 4 0\n"
     ]
    },
    {
     "ename": "KeyboardInterrupt",
     "evalue": "",
     "output_type": "error",
     "traceback": [
      "\u001b[0;31m---------------------------------------------------------------------------\u001b[0m",
      "\u001b[0;31mKeyboardInterrupt\u001b[0m                         Traceback (most recent call last)",
      "Cell \u001b[0;32mIn[45], line 39\u001b[0m\n\u001b[1;32m     37\u001b[0m   text \u001b[38;5;241m+\u001b[39m\u001b[38;5;241m=\u001b[39m output[i][\u001b[38;5;241m1\u001b[39m][j] \u001b[38;5;241m+\u001b[39m (\u001b[38;5;124m\"\u001b[39m\u001b[38;5;124m \u001b[39m\u001b[38;5;124m\"\u001b[39m \u001b[38;5;241m*\u001b[39m (spaces_len \u001b[38;5;241m/\u001b[39m\u001b[38;5;241m/\u001b[39m num_of_spaces \u001b[38;5;241m+\u001b[39m \u001b[38;5;241m1\u001b[39m))\n\u001b[1;32m     38\u001b[0m   j \u001b[38;5;241m+\u001b[39m\u001b[38;5;241m=\u001b[39m \u001b[38;5;241m1\u001b[39m\n\u001b[0;32m---> 39\u001b[0m \u001b[38;5;28;01mwhile\u001b[39;00m j \u001b[38;5;241m<\u001b[39m num_of_spaces:\n\u001b[1;32m     40\u001b[0m   text \u001b[38;5;241m+\u001b[39m\u001b[38;5;241m=\u001b[39m output[i][\u001b[38;5;241m1\u001b[39m][j] \u001b[38;5;241m+\u001b[39m (\u001b[38;5;124m\"\u001b[39m\u001b[38;5;124m \u001b[39m\u001b[38;5;124m\"\u001b[39m \u001b[38;5;241m*\u001b[39m (spaces_len \u001b[38;5;241m/\u001b[39m\u001b[38;5;241m/\u001b[39m num_of_spaces))\n",
      "\u001b[0;31mKeyboardInterrupt\u001b[0m: "
     ]
    }
   ],
   "source": [
    "words = [\"This\",\"is\",\"an\",\"example\",\"of\",\"text\",\"justification.\"]\n",
    "maxWidth = 16\n",
    "\n",
    "output = {}\n",
    "\n",
    "sum = 0\n",
    "words_len = 0\n",
    "temp = []\n",
    "idx = 0\n",
    "for i in words:\n",
    "  sum += len(i)\n",
    "  if sum > maxWidth:\n",
    "    print(sum, temp)\n",
    "    output[idx] = (words_len, temp)\n",
    "    words_len = 0\n",
    "    words_len += len(i)\n",
    "    temp = []\n",
    "    temp.append(i)\n",
    "    sum, idx = len(i), idx + 1\n",
    "  else:\n",
    "    temp.append(i)\n",
    "    words_len += len(i)\n",
    "    sum += 1\n",
    "  print(sum)\n",
    "output[idx] = (sum, temp)\n",
    "print(output)\n",
    "\n",
    "result = []\n",
    "for i in range(len(output)):\n",
    "  spaces_len = maxWidth - output[i][0]\n",
    "  num_of_spaces = max(len(output[i][1]) - 1, 1)\n",
    "\n",
    "  print(spaces_len / num_of_spaces, spaces_len // num_of_spaces, spaces_len % num_of_spaces)\n",
    "  text = \"\"\n",
    "  j = 0\n",
    "  while j < (spaces_len % num_of_spaces):\n",
    "    text += output[i][1][j] + (\" \" * (spaces_len // num_of_spaces + 1))\n",
    "    j += 1\n",
    "  while j < num_of_spaces:\n",
    "    text += output[i][1][j] + (\" \" * (spaces_len // num_of_spaces))\n",
    "\n"
   ]
  },
  {
   "cell_type": "code",
   "execution_count": 47,
   "metadata": {},
   "outputs": [
    {
     "name": "stdout",
     "output_type": "stream",
     "text": [
      "[323, 54, 65, 65, 46, 547, 4356, 45326, 1, 876, 6, 735, 76534, 6534, 7563, 8736, 7354, 34535]\n",
      "[1, 6, 46, 54, 65, 65, 323, 547, 735, 876, 4356, 6534, 7354, 7563, 8736, 34535, 45326, 76534]\n",
      "5\n"
     ]
    }
   ],
   "source": [
    "def quicksort(arr):\n",
    "  if len(arr) <= 1:\n",
    "    return arr\n",
    "  else:\n",
    "    pivot = arr[0]\n",
    "    left = [x for x in arr[1:] if x < pivot]\n",
    "    right = [x for x in arr[1:] if x >= pivot]\n",
    "    return quicksort(left) + [pivot] + quicksort(right)\n",
    "\n",
    "def binary_search(arr, x):\n",
    "  low = 0\n",
    "  high = len(arr) - 1\n",
    "  mid = 0\n",
    "\n",
    "  while low <= high:\n",
    "    mid = (low + high) // 2\n",
    "    if arr[mid] < x:\n",
    "      low = mid + 1\n",
    "    elif arr[mid] > x:\n",
    "      high = mid - 1\n",
    "    else:\n",
    "      return mid\n",
    "  return -1\n",
    "\n",
    "arr = [323,54,65,65,46,547,4356,45326,1,876,6,735,76534,6534,7563,8736,7354,34535]\n",
    "\n",
    "print(arr)\n",
    "arr = quicksort(arr)\n",
    "print(arr)\n",
    "print(binary_search(arr, 65))"
   ]
  },
  {
   "cell_type": "code",
   "execution_count": null,
   "metadata": {},
   "outputs": [
    {
     "name": "stdout",
     "output_type": "stream",
     "text": [
      "0p\n",
      "0\n",
      "False\n",
      "1\n",
      "False\n",
      "True\n",
      "0p\n",
      "<reversed object at 0x770642b92b30>\n",
      "p0\n"
     ]
    }
   ],
   "source": [
    "# s = \"A man, a plan, a canal: Panama\"\n",
    "s = \"0P\"\n",
    "\n",
    "s = \"\".join([x for x in s if x.isalpha() or x.isdigit()]).lower()\n",
    "print(s)\n",
    "for i in range(len(s)):\n",
    "    print(i)\n",
    "    if s[i] != s[-(i + 1)]:\n",
    "        print(False)\n",
    "print(True)\n",
    "\n",
    "print(s)\n",
    "print(s[::-1])"
   ]
  },
  {
   "cell_type": "code",
   "execution_count": 12,
   "metadata": {},
   "outputs": [
    {
     "name": "stdout",
     "output_type": "stream",
     "text": [
      "[3432, 5, 436, 546, 54, 746, 7, 5436, 6543, 76547, 87, 698, 768, 657, 645, 8, 7]\n",
      "[5, 7, 7, 8, 54, 87, 436, 546, 645, 657, 698, 746, 768, 3432, 5436, 6543, 76547]\n",
      "4\n"
     ]
    }
   ],
   "source": [
    "def quicksort(arr):\n",
    "  if len(arr) <= 1:\n",
    "    return arr\n",
    "  else:\n",
    "    pivot = arr[0]\n",
    "    left = [x for x in arr[1:] if x < pivot]\n",
    "    right = [x for x in arr[1:] if x >= pivot]\n",
    "    return quicksort(left) + [pivot] + quicksort(right)\n",
    "  \n",
    "def binary_search(arr, x):\n",
    "  low = 0\n",
    "  high = len(arr) - 1\n",
    "  mid = 0\n",
    "\n",
    "  while low <= high:\n",
    "    mid = (low + high) // 2\n",
    "    if arr[mid] < x:\n",
    "      low = mid + 1\n",
    "    elif arr[mid] > x:\n",
    "      high = mid - 1\n",
    "    else:\n",
    "      return mid\n",
    "  return -1\n",
    "\n",
    "arr = [3432,5,436,546,54,746,7,5436,6543,76547,87,698,768,657,645,8,7]\n",
    "\n",
    "print(arr)\n",
    "arr = quicksort(arr)\n",
    "print(arr)\n",
    "print(binary_search(arr, 54))"
   ]
  },
  {
   "cell_type": "code",
   "execution_count": 3,
   "metadata": {},
   "outputs": [
    {
     "name": "stdout",
     "output_type": "stream",
     "text": [
      "0 0 3 6\n",
      "1 0 3 6\n",
      "1 1 3 6\n",
      "1 2 3 6\n",
      "2 0 3 6\n",
      "2 1 3 6\n",
      "2 2 3 6\n",
      "2 3 3 6\n",
      "2 4 3 6\n",
      "2 5 3 6\n"
     ]
    }
   ],
   "source": [
    "s = \"abc\"\n",
    "t = \"ahbgdc\"\n",
    "\n",
    "for j in range(len(s)):\n",
    "  for i in range(len(t)):\n",
    "    print(j, i, len(s), len(t))\n",
    "    if s[j] == t[i]:\n",
    "      break\n",
    "    elif i == len(t) - 1:\n",
    "      print(i, len(t), \"dupa\")\n"
   ]
  },
  {
   "cell_type": "code",
   "execution_count": 8,
   "metadata": {},
   "outputs": [
    {
     "name": "stdout",
     "output_type": "stream",
     "text": [
      "[3423, 54, 6, 4356, 4537, 5678, 645, 75346, 5427, 655, 83654, 7234, 5734, 5234345]\n",
      "[6, 54, 645, 655, 3423, 4356, 4537, 5427, 5678, 5734, 7234, 75346, 83654, 5234345]\n",
      "-1\n"
     ]
    }
   ],
   "source": [
    "def quicksort(arr):\n",
    "  if len(arr) <= 1:\n",
    "    return arr\n",
    "  else:\n",
    "    pivot = arr[0]\n",
    "    left = [x for x in arr[1:] if x < pivot]\n",
    "    right = [x for x in arr[1:] if x >= pivot]\n",
    "    return quicksort(left) + [pivot] + quicksort(right)\n",
    "\n",
    "def binary_search(arr, x):\n",
    "  low = 0\n",
    "  high = len(arr) - 1\n",
    "  mid = 0\n",
    "\n",
    "  while low <= high:\n",
    "    mid = (low + high) // 2\n",
    "    if arr[mid] < x:\n",
    "      low = mid + 1\n",
    "    elif arr[mid] > x:\n",
    "      high = mid - 1\n",
    "    else:\n",
    "      return mid\n",
    "  return -1\n",
    "\n",
    "arr = [3423,54,6,4356,4537,5678,645,75346,5427,655,83654,7234,5734,5234345]\n",
    "\n",
    "print(arr)\n",
    "arr = quicksort(arr)\n",
    "print(arr)\n",
    "print(binary_search(arr, 2137))"
   ]
  },
  {
   "cell_type": "code",
   "execution_count": 4,
   "metadata": {},
   "outputs": [
    {
     "name": "stdout",
     "output_type": "stream",
     "text": [
      "[0, 1]\n"
     ]
    }
   ],
   "source": [
    "numbers = [2,7,11,15]\n",
    "target = 9\n",
    "\n",
    "low = 0\n",
    "high = len(numbers) - 1\n",
    "while low < high:\n",
    "  two_sum = numbers[low] + numbers[high]\n",
    "  if two_sum < target:\n",
    "    low += 1\n",
    "  elif two_sum > target:\n",
    "    high -= 1\n",
    "  else:\n",
    "    print([low, high])\n",
    "    break"
   ]
  },
  {
   "cell_type": "code",
   "execution_count": 8,
   "metadata": {},
   "outputs": [
    {
     "name": "stdout",
     "output_type": "stream",
     "text": [
      "[23423, 5342, 56234, 632, 546245, 754, 6243, 65, 437, 4537, 46537, 543, 6453, 7, 75, 1, 645, 6, 46]\n",
      "[1, 6, 7, 46, 65, 75, 437, 543, 632, 645, 754, 4537, 5342, 6243, 6453, 23423, 46537, 56234, 546245]\n",
      "0\n"
     ]
    }
   ],
   "source": [
    "def quicksort(arr):\n",
    "  if len(arr) <= 1:\n",
    "    return arr\n",
    "  else:\n",
    "    pivot = arr[0]\n",
    "    left = [x for x in arr[1:] if x < pivot]\n",
    "    right = [x for x in arr[1:] if x >= pivot]\n",
    "    return quicksort(left) + [pivot] + quicksort(right)\n",
    "\n",
    "def binary_search(arr, x):\n",
    "  low = 0\n",
    "  high = len(arr) - 1\n",
    "  mid = 0\n",
    "\n",
    "  while low <= high:\n",
    "    mid = (low + high) // 2\n",
    "    if arr[mid] < x:\n",
    "      low = mid + 1\n",
    "    elif arr[mid] > x:\n",
    "      high = mid - 1\n",
    "    else:\n",
    "      return mid\n",
    "  return -1\n",
    "\n",
    "\n",
    "arr = [23423,5342,56234,632,546245,754,6243,65,437,4537,46537,543,6453,7,75,1,645,6,46]\n",
    "\n",
    "print(arr)\n",
    "arr = quicksort(arr)\n",
    "print(arr)\n",
    "print(binary_search(arr, 1))"
   ]
  },
  {
   "cell_type": "code",
   "execution_count": 9,
   "metadata": {},
   "outputs": [
    {
     "name": "stdout",
     "output_type": "stream",
     "text": [
      "[3423, 5, 325, 2345, 4235, 432, 643, 25, 435, 234, 21]\n",
      "[5, 21, 25, 234, 325, 432, 435, 643, 2345, 3423, 4235]\n"
     ]
    }
   ],
   "source": [
    "def mergeSort(arr):\n",
    "  def merge(left, right):\n",
    "    result = []\n",
    "    i = j = 0\n",
    "\n",
    "    while i < len(left) and j < len(right):\n",
    "      if left[i] < right[j]:\n",
    "        result.append(left[i])\n",
    "        i += 1\n",
    "      else:\n",
    "        result.append(right[j])\n",
    "        j += 1\n",
    "\n",
    "    result.extend(left[i:])\n",
    "    result.extend(right[j:])\n",
    "    return result\n",
    "\n",
    "  if len(arr) <= 1:\n",
    "    return arr\n",
    "  \n",
    "  mid = len(arr) // 2\n",
    "  leftHalf = arr[:mid]\n",
    "  rightHalf = arr[mid:]\n",
    "\n",
    "  sortedLeft = mergeSort(leftHalf)\n",
    "  sortedRight = mergeSort(rightHalf)\n",
    "\n",
    "  return merge(sortedLeft, sortedRight)\n",
    "\n",
    "arr = [3423,5,325,2345,4235,432,643,25,435,234,21]\n",
    "print(arr)\n",
    "arr = mergeSort(arr)\n",
    "print(arr)"
   ]
  },
  {
   "cell_type": "code",
   "execution_count": 9,
   "metadata": {},
   "outputs": [
    {
     "name": "stdout",
     "output_type": "stream",
     "text": [
      "1\n"
     ]
    }
   ],
   "source": [
    "height = [1,8,6,2,5,4,8,3,7]\n",
    "height = [1,1]\n",
    "\n",
    "low = 0\n",
    "high = len(height) - 1\n",
    "\n",
    "while low < high and len(height) > 2:\n",
    "  print(low, high)\n",
    "  if (high - low) * min(height[low], height[high]) < (high - low + 1) * min(height[low + 1], height[high]):\n",
    "    low += 1\n",
    "    print(low, high, \"low\")\n",
    "  elif (high - low) * min(height[low], height[high]) <  (high - 1 - low) * min(height[low], height[high - 1]):\n",
    "    high -= 1\n",
    "    print(low, high, \"high\")\n",
    "  else:\n",
    "    break\n",
    "\n",
    "print((high - low) * min(height[low], height[high]))\n"
   ]
  },
  {
   "cell_type": "code",
   "execution_count": 2,
   "metadata": {},
   "outputs": [
    {
     "name": "stdout",
     "output_type": "stream",
     "text": [
      "[1, 8, 6, 2, 5, 4, 8, 3, 7]\n",
      "[7, 3, 8, 4, 5, 2, 6, 8, 1]\n"
     ]
    }
   ],
   "source": [
    "height = [1,8,6,2,5,4,8,3,7]\n",
    "\n",
    "print(height)\n",
    "print(height[::-1])"
   ]
  },
  {
   "cell_type": "code",
   "execution_count": 9,
   "metadata": {},
   "outputs": [
    {
     "name": "stdout",
     "output_type": "stream",
     "text": [
      "0\n"
     ]
    }
   ],
   "source": [
    "[2,3,4,5,18,17,6]\n",
    "\n",
    "low = 0\n",
    "high = len(height) - 1\n",
    "area = (len(height) - 1) * min(height[low], height[high])\n",
    "\n",
    "while low < high:\n",
    "  if area < ((high - low + 1) * min(height[low + 1], height[high])):\n",
    "    print(((high - low + 1) * min(height[low + 1], height[high])))\n",
    "    low += 1\n",
    "    area = (high - low) * min(height[low], height[high])\n",
    "    \n",
    "  elif area < (((high - 1) - low) * min(height[low], height[high - 1])):\n",
    "    high -= 1\n",
    "    area = (high - low) * min(height[low], height[high])\n",
    "  else:\n",
    "    break\n",
    "print(low,high,)"
   ]
  },
  {
   "cell_type": "code",
   "execution_count": 11,
   "metadata": {},
   "outputs": [
    {
     "name": "stdout",
     "output_type": "stream",
     "text": [
      "[234, 543, 5243, 5645, 6754, 6, 4526, 45, 7654, 6, 56, 243, 62, 43, 543524, 1]\n",
      "[1, 6, 6, 43, 45, 56, 62, 234, 243, 543, 4526, 5243, 5645, 6754, 7654, 543524]\n",
      "[1, 6, 6, 43, 45, 56, 62, 234, 243, 543, 4526, 5243, 5645, 6754, 7654, 543524]\n",
      "4\n",
      "4\n"
     ]
    }
   ],
   "source": [
    "def quicksort(arr):\n",
    "  if len(arr) <= 1:\n",
    "    return arr\n",
    "  else:\n",
    "    pivot = arr[0]\n",
    "    left = [x for x in arr[1:] if x < pivot]\n",
    "    right = [x for x in arr[1:] if x >= pivot]\n",
    "    return quicksort(left) + [pivot] + quicksort(right)\n",
    "\n",
    "def binary_search(arr, x):\n",
    "  low = 0\n",
    "  high = len(arr) - 1\n",
    "  mid = 0\n",
    "\n",
    "  while low <= high:\n",
    "    mid = (low + high) // 2\n",
    "    if arr[mid] < x:\n",
    "      low = mid + 1\n",
    "    elif arr[mid] > x:\n",
    "      high = mid - 1\n",
    "    else:\n",
    "      return mid\n",
    "  return -1\n",
    "\n",
    "def mergeSort(arr):\n",
    "  def merge(left, right):\n",
    "    result = []\n",
    "    i = j = 0\n",
    "\n",
    "    while i < len(left) and j < len(right):\n",
    "      if left[i] < right[j]:\n",
    "        result.append(left[i])\n",
    "        i += 1\n",
    "      else:\n",
    "        result.append(right[j])\n",
    "        j += 1\n",
    "    result.extend(left[i:])\n",
    "    result.extend(right[j:])\n",
    "    return result\n",
    "\n",
    "  if len(arr) <= 1:\n",
    "    return arr\n",
    "  \n",
    "  mid = len(arr) // 2\n",
    "  leftHalf = arr[:mid]\n",
    "  rightHalf = arr[mid:]\n",
    "\n",
    "  sortedLeft = mergeSort(leftHalf)\n",
    "  sortedRight = mergeSort(rightHalf)\n",
    "\n",
    "  return merge(sortedLeft, sortedRight)\n",
    "\n",
    "arr = [234,543,5243,5645,6754,6,4526,45,7654,6,56,243,62,43,543524,1]\n",
    "\n",
    "print(arr)\n",
    "arr_qs = quicksort(arr)\n",
    "print(arr_qs)\n",
    "arr_m = mergeSort(arr)\n",
    "print(arr_m)\n",
    "print(binary_search(arr_m, 45))\n",
    "print(binary_search(arr_qs, 45))\n",
    "\n"
   ]
  },
  {
   "cell_type": "code",
   "execution_count": null,
   "metadata": {},
   "outputs": [],
   "source": [
    "def mergeSort(arr):\n",
    "  def merge(left, right):\n",
    "    result = []\n",
    "    i = j = 0\n",
    "\n",
    "    while i < len(left) and j < len(right):\n",
    "      if left[i] < right[j]:\n",
    "        result.append(left[i])\n",
    "        i += 1\n",
    "      else:\n",
    "        result.append(right[j])\n",
    "        j += 1\n",
    "\n",
    "    result.extend(left[i:])\n",
    "    result.extend(right[j:])\n",
    "    return result\n",
    "\n",
    "  if len(arr) <= 1:\n",
    "    return arr\n",
    "  \n",
    "  mid = len(arr) // 2\n",
    "  leftHalf = arr[:mid]\n",
    "  rightHalf = arr[mid:]\n",
    "\n",
    "  sortedLeft = mergeSort(leftHalf)\n",
    "  sortedRight = mergeSort(rightHalf)\n",
    "\n",
    "  return merge(sortedLeft, sortedRight)"
   ]
  },
  {
   "cell_type": "code",
   "execution_count": 17,
   "metadata": {},
   "outputs": [
    {
     "name": "stdout",
     "output_type": "stream",
     "text": [
      "[-1, 0] [1, 2] [-1, -4]\n",
      "[[-1, 2, -1], [0, 1, -1]]\n"
     ]
    }
   ],
   "source": [
    "nums = [-1,0,1,2,-1,-4]\n",
    "\n",
    "length = len(nums)\n",
    "\n",
    "first_cut = length // 3\n",
    "\n",
    "if length % 3 == 2:\n",
    "  second_cut = 2 * first_cut + 1\n",
    "else:\n",
    "  second_cut = 2 *  first_cut\n",
    "\n",
    "\n",
    "print(nums[:first_cut], nums[first_cut:second_cut], nums[second_cut:])\n",
    "\n",
    "result = []\n",
    "\n",
    "for i in nums[:first_cut]:\n",
    "  for j in nums[first_cut:second_cut]:\n",
    "    for k in nums[second_cut:]:\n",
    "      if i + j + k == 0:\n",
    "        result.append([i, j, k])\n",
    "\n",
    "print(result)"
   ]
  },
  {
   "cell_type": "code",
   "execution_count": 19,
   "metadata": {},
   "outputs": [
    {
     "name": "stdout",
     "output_type": "stream",
     "text": [
      "[1232, 345345, 346, 456, 45, 6432, 5, 456, 457, 54, 645, 5654, 754665, 65, 467, 565]\n",
      "[5, 45, 54, 65, 346, 456, 456, 457, 467, 565, 645, 1232, 5654, 6432, 345345, 754665]\n",
      "[5, 45, 54, 65, 346, 456, 456, 457, 467, 565, 645, 1232, 5654, 6432, 345345, 754665]\n",
      "5\n"
     ]
    }
   ],
   "source": [
    "def quicksort(arr):\n",
    "  if len(arr) <= 1:\n",
    "    return arr\n",
    "  else:\n",
    "    pivot = arr[0]\n",
    "    left = [x for x in arr[1:] if x < pivot]\n",
    "    right = [x for x in arr[1:] if x >= pivot]\n",
    "    return quicksort(left) + [pivot] + quicksort(right)\n",
    "\n",
    "def binary_search(arr, x):\n",
    "  low = 0\n",
    "  high = len(arr) - 1\n",
    "  mid = 0\n",
    "\n",
    "  while low <= high:\n",
    "    mid = (low + high) // 2\n",
    "    if arr[mid] < x:\n",
    "      low = mid + 1\n",
    "    elif arr[mid] > x:\n",
    "      high = mid - 1\n",
    "    else:\n",
    "      return mid\n",
    "  return -1\n",
    "\n",
    "def mergeSort(arr):\n",
    "  def merge(left, right):\n",
    "    result = []\n",
    "    i = j = 0\n",
    "\n",
    "    while i < len(left) and j < len(right):\n",
    "      if left[i] < right[j]:\n",
    "        result.append(left[i])\n",
    "        i += 1\n",
    "      else:\n",
    "        result.append(right[j])\n",
    "        j += 1\n",
    "    result.extend(left[i:])\n",
    "    result.extend(right[j:])\n",
    "    return result\n",
    "  \n",
    "  if len(arr) <= 1:\n",
    "    return arr\n",
    "  \n",
    "  mid = len(arr) // 2\n",
    "  leftHalf = arr[:mid]\n",
    "  rightHalf = arr[mid:]\n",
    "\n",
    "  sortedLeft = mergeSort(leftHalf)\n",
    "  sortedRight = mergeSort(rightHalf)\n",
    "\n",
    "  return merge(sortedLeft, sortedRight)\n",
    "\n",
    "arr = [1232,345345,346,456,45,6432,5,456,457,54,645,5654,754665,65,467,565]\n",
    "print(arr)\n",
    "qs_arr = quicksort(arr)\n",
    "print(qs_arr)\n",
    "ms_arr = mergeSort(arr)\n",
    "print(ms_arr)\n",
    "print(binary_search(qs_arr, 456))"
   ]
  },
  {
   "cell_type": "code",
   "execution_count": null,
   "metadata": {},
   "outputs": [],
   "source": [
    "def mergeSort(arr):\n",
    "  def merge(left, right):\n",
    "    result = []\n",
    "    i = j = 0\n",
    "\n",
    "    while i < len(left) and j < len(right):\n",
    "      if left[i] < right[j]:\n",
    "        result.append(left[i])\n",
    "        i += 1\n",
    "      else:\n",
    "        result.append(right[j])\n",
    "        j += 1\n",
    "\n",
    "    result.extend(left[i:])\n",
    "    result.extend(right[j:])\n",
    "    return result\n",
    "\n",
    "  if len(arr) <= 1:\n",
    "    return arr\n",
    "  \n",
    "  mid = len(arr) // 2\n",
    "  leftHalf = arr[:mid]\n",
    "  rightHalf = arr[mid:]\n",
    "\n",
    "  sortedLeft = mergeSort(leftHalf)\n",
    "  sortedRight = mergeSort(rightHalf)\n",
    "\n",
    "  return merge(sortedLeft, sortedRight)"
   ]
  },
  {
   "cell_type": "code",
   "execution_count": 5,
   "metadata": {},
   "outputs": [
    {
     "name": "stdout",
     "output_type": "stream",
     "text": [
      "2 1 9999999 2\n",
      "5 2 9999999 3\n",
      "6 3 9999999 1\n",
      "0 0 4 2\n",
      "4 1 4 4\n",
      "0 0 2 3\n",
      "2\n"
     ]
    }
   ],
   "source": [
    "nums = [2,3,1,2,4,3]\n",
    "target = 7\n",
    "\n",
    "sum_nums = 0\n",
    "min_len = 9999999\n",
    "temp = 0\n",
    "for i in nums:\n",
    "  sum_nums += i\n",
    "  temp += 1\n",
    "  if sum_nums >= target:\n",
    "    min_len = min(min_len, temp)\n",
    "    sum_nums = 0\n",
    "    temp = 0\n",
    "  print(sum_nums, temp, min_len,i)\n",
    "\n",
    "print(0 if min_len == 9999999 else min_len)"
   ]
  },
  {
   "cell_type": "code",
   "execution_count": 16,
   "metadata": {},
   "outputs": [
    {
     "name": "stdout",
     "output_type": "stream",
     "text": [
      "8\n"
     ]
    }
   ],
   "source": [
    "nums = [12,28,83,4,25,26,25,2,25,25,25,12]\n",
    "target = 213\n",
    "\n",
    "k = len(nums) - 1\n",
    "res = len(nums) + 1\n",
    "\n",
    "while k > 0:\n",
    "  for i in range(len(nums) - k):\n",
    "    if sum(nums[i:(i+k)]) >= target:\n",
    "      res = k\n",
    "  k -= 1\n",
    "\n",
    "print(res)"
   ]
  },
  {
   "cell_type": "code",
   "execution_count": 35,
   "metadata": {},
   "outputs": [
    {
     "name": "stdout",
     "output_type": "stream",
     "text": [
      "[] 2\n",
      "[2] 5\n",
      "[2, 3] 6\n",
      "[3, 1] 6\n",
      "[2] 6\n",
      "[] 3\n",
      "2\n"
     ]
    }
   ],
   "source": [
    "nums = [2,3,1,2,4,3]\n",
    "target = 7\n",
    "\n",
    "l, total = 0, 0\n",
    "res = float(\"inf\")\n",
    "\n",
    "for r in range(len(nums)):\n",
    "  total += nums[r]\n",
    "  while total >= target:\n",
    "    res = min(r - l + 1, res)\n",
    "    total -= nums[l]\n",
    "    l += 1\n",
    "\n",
    "print(res)"
   ]
  },
  {
   "cell_type": "code",
   "execution_count": 37,
   "metadata": {},
   "outputs": [
    {
     "name": "stdout",
     "output_type": "stream",
     "text": [
      "[435, 436, 45, 4537, 3457, 68, 6563, 46, 5648, 7687, 69786, 976, 7564, 7564, 765, 876, 8]\n",
      "[8, 45, 46, 68, 435, 436, 765, 876, 976, 3457, 4537, 5648, 6563, 7564, 7564, 7687, 69786]\n",
      "[8, 45, 46, 68, 435, 436, 765, 876, 976, 3457, 4537, 5648, 6563, 7564, 7564, 7687, 69786]\n",
      "16\n"
     ]
    }
   ],
   "source": [
    "def quicksort(arr):\n",
    "  if len(arr) <= 1:\n",
    "    return arr\n",
    "  else:\n",
    "    pivot = arr[0]\n",
    "    left = [x for x in arr[1:] if x < pivot]\n",
    "    right = [x for x in arr[1:] if x >= pivot]\n",
    "    return quicksort(left) + [pivot] + quicksort(right)\n",
    "  \n",
    "def binary_search(arr, x):\n",
    "  low = 0\n",
    "  high = len(arr) - 1\n",
    "  mid = 0\n",
    "\n",
    "  while low <= high:\n",
    "    mid = (low + high) // 2\n",
    "    if arr[mid] < x:\n",
    "      low = mid + 1\n",
    "    elif arr[mid] > x:\n",
    "      high = mid - 1\n",
    "    else:\n",
    "      return mid\n",
    "  return -1\n",
    "\n",
    "def mergeSort(arr):\n",
    "  def merge(left, right):\n",
    "    i, j = 0, 0\n",
    "    result = []\n",
    "    while i < len(left) and j < len(right):\n",
    "      if left[i] < right[j]:\n",
    "        result.append(left[i])\n",
    "        i += 1\n",
    "      else:\n",
    "        result.append(right[j])\n",
    "        j += 1\n",
    "    result.extend(left[i:])\n",
    "    result.extend(right[j:])\n",
    "    return result\n",
    "  \n",
    "  if len(arr) <= 1:\n",
    "    return arr\n",
    "  \n",
    "  mid = len(arr) // 2\n",
    "  leftHalf = arr[:mid]\n",
    "  rightHalf = arr[mid:]\n",
    "\n",
    "  sortedLeft = mergeSort(leftHalf)\n",
    "  sortedRight = mergeSort(rightHalf)\n",
    "\n",
    "  return merge(sortedLeft, sortedRight)\n",
    "\n",
    "\n",
    "arr = [435,436,45,4537,3457,68,6563,46,5648,7687,69786,976,7564,7564,765,876,8]\n",
    "\n",
    "print(arr)\n",
    "qs_arr = quicksort(arr)\n",
    "print(qs_arr)\n",
    "ms_arr = mergeSort(arr)\n",
    "print(ms_arr)\n",
    "print(binary_search(ms_arr, 69786))"
   ]
  },
  {
   "cell_type": "code",
   "execution_count": null,
   "metadata": {},
   "outputs": [
    {
     "name": "stdout",
     "output_type": "stream",
     "text": [
      "0 0 1\n",
      "0 0 1 l\n",
      "0 1 1 l\n",
      "0 2 1 l\n",
      "0 3 1 l\n",
      "0 4 1 l\n"
     ]
    },
    {
     "ename": "IndexError",
     "evalue": "string index out of range",
     "output_type": "error",
     "traceback": [
      "\u001b[1;31m---------------------------------------------------------------------------\u001b[0m",
      "\u001b[1;31mIndexError\u001b[0m                                Traceback (most recent call last)",
      "Cell \u001b[1;32mIn[11], line 7\u001b[0m\n\u001b[0;32m      5\u001b[0m \u001b[38;5;28;01mwhile\u001b[39;00m r \u001b[38;5;241m<\u001b[39m (\u001b[38;5;28mlen\u001b[39m(s) \u001b[38;5;241m-\u001b[39m \u001b[38;5;241m1\u001b[39m):\n\u001b[0;32m      6\u001b[0m     \u001b[38;5;28mprint\u001b[39m(res, l, r)\n\u001b[1;32m----> 7\u001b[0m     \u001b[38;5;28;01mwhile\u001b[39;00m \u001b[43ms\u001b[49m\u001b[43m[\u001b[49m\u001b[43ml\u001b[49m\u001b[43m]\u001b[49m \u001b[38;5;241m==\u001b[39m s[r] \u001b[38;5;129;01mand\u001b[39;00m r \u001b[38;5;241m<\u001b[39m \u001b[38;5;28mlen\u001b[39m(s) \u001b[38;5;241m-\u001b[39m \u001b[38;5;241m1\u001b[39m:\n\u001b[0;32m      8\u001b[0m         \u001b[38;5;28mprint\u001b[39m(res, l, r, \u001b[38;5;124m\"\u001b[39m\u001b[38;5;124ml\u001b[39m\u001b[38;5;124m\"\u001b[39m)\n\u001b[0;32m      9\u001b[0m         l \u001b[38;5;241m+\u001b[39m\u001b[38;5;241m=\u001b[39m \u001b[38;5;241m1\u001b[39m\n",
      "\u001b[1;31mIndexError\u001b[0m: string index out of range"
     ]
    }
   ],
   "source": [
    "s = \"abcabcbb\"\n",
    "s = \"bbbbb\"\n",
    "\n",
    "l, r, res = 0, 1, 0\n",
    "while r < (len(s) - 1):\n",
    "    print(res, l, r)\n",
    "    while s[l] == s[r] and r < len(s) - 1:\n",
    "        print(res, l, r, \"l\")\n",
    "        l += 1\n",
    "        if l > r:\n",
    "            r = l\n",
    "    while s[l] != s[r] and r < len(s) - 1:\n",
    "        print(res, l, r, \"r\")\n",
    "        res = max(r - l, res)\n",
    "        r += 1\n",
    "    \n",
    "\n",
    "print(res)"
   ]
  },
  {
   "cell_type": "code",
   "execution_count": null,
   "metadata": {},
   "outputs": [],
   "source": []
  }
 ],
 "metadata": {
  "kernelspec": {
   "display_name": "multipleVoices",
   "language": "python",
   "name": "python3"
  },
  "language_info": {
   "codemirror_mode": {
    "name": "ipython",
    "version": 3
   },
   "file_extension": ".py",
   "mimetype": "text/x-python",
   "name": "python",
   "nbconvert_exporter": "python",
   "pygments_lexer": "ipython3",
   "version": "3.12.5"
  }
 },
 "nbformat": 4,
 "nbformat_minor": 2
}
