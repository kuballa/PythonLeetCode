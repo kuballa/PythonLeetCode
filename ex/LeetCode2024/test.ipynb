{
 "cells": [
  {
   "cell_type": "code",
   "execution_count": null,
   "metadata": {},
   "outputs": [
    {
     "name": "stdout",
     "output_type": "stream",
     "text": [
      "[]\n"
     ]
    },
    {
     "ename": "IndexError",
     "evalue": "list assignment index out of range",
     "output_type": "error",
     "traceback": [
      "\u001b[0;31m---------------------------------------------------------------------------\u001b[0m",
      "\u001b[0;31mIndexError\u001b[0m                                Traceback (most recent call last)",
      "Cell \u001b[0;32mIn[8], line 19\u001b[0m\n\u001b[1;32m     17\u001b[0m randomizedSet \u001b[38;5;241m=\u001b[39m RandomizedSet()\n\u001b[1;32m     18\u001b[0m \u001b[38;5;28mprint\u001b[39m(randomizedSet\u001b[38;5;241m.\u001b[39mnums)\n\u001b[0;32m---> 19\u001b[0m \u001b[43mrandomizedSet\u001b[49m\u001b[38;5;241;43m.\u001b[39;49m\u001b[43minsert\u001b[49m\u001b[43m(\u001b[49m\u001b[38;5;241;43m1\u001b[39;49m\u001b[43m)\u001b[49m\n\u001b[1;32m     20\u001b[0m randomizedSet\u001b[38;5;241m.\u001b[39minsert(\u001b[38;5;241m2\u001b[39m)\n",
      "Cell \u001b[0;32mIn[8], line 8\u001b[0m, in \u001b[0;36mRandomizedSet.insert\u001b[0;34m(self, val)\u001b[0m\n\u001b[1;32m      7\u001b[0m \u001b[38;5;28;01mdef\u001b[39;00m \u001b[38;5;21minsert\u001b[39m(\u001b[38;5;28mself\u001b[39m, val: \u001b[38;5;28mint\u001b[39m) \u001b[38;5;241m-\u001b[39m\u001b[38;5;241m>\u001b[39m \u001b[38;5;28mbool\u001b[39m:\n\u001b[0;32m----> 8\u001b[0m   \u001b[38;5;28;43mself\u001b[39;49m\u001b[38;5;241;43m.\u001b[39;49m\u001b[43mnums\u001b[49m\u001b[43m[\u001b[49m\u001b[38;5;28;43mself\u001b[39;49m\u001b[38;5;241;43m.\u001b[39;49m\u001b[43mlength\u001b[49m\u001b[43m]\u001b[49m \u001b[38;5;241m=\u001b[39m val\n\u001b[1;32m      9\u001b[0m   \u001b[38;5;28;01mreturn\u001b[39;00m \u001b[38;5;28;01mTrue\u001b[39;00m\n",
      "\u001b[0;31mIndexError\u001b[0m: list assignment index out of range"
     ]
    }
   ],
   "source": [
    "class RandomizedSet:\n",
    "\n",
    "    def __init__(self):\n",
    "      self.nums = []\n",
    "      self.length = len(self.nums)\n",
    "\n",
    "    def insert(self, val: int) -> bool:\n",
    "      if val in self.nums:\n",
    "        return False\n",
    "      else:\n",
    "        self.nums.append(val)\n",
    "        return True\n",
    "\n",
    "    def remove(self, val: int) -> bool:\n",
    "      pass\n",
    "\n",
    "    def getRandom(self) -> int:\n",
    "      pass\n",
    "\n",
    "randomizedSet = RandomizedSet()\n",
    "print(randomizedSet.nums)\n",
    "randomizedSet.insert(1)\n",
    "randomizedSet.insert(2)\n"
   ]
  },
  {
   "cell_type": "code",
   "execution_count": null,
   "metadata": {},
   "outputs": [],
   "source": []
  }
 ],
 "metadata": {
  "kernelspec": {
   "display_name": "usr",
   "language": "python",
   "name": "python3"
  },
  "language_info": {
   "codemirror_mode": {
    "name": "ipython",
    "version": 3
   },
   "file_extension": ".py",
   "mimetype": "text/x-python",
   "name": "python",
   "nbconvert_exporter": "python",
   "pygments_lexer": "ipython3",
   "version": "3.12.3"
  }
 },
 "nbformat": 4,
 "nbformat_minor": 2
}
