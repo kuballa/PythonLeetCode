{
 "cells": [
  {
   "cell_type": "code",
   "execution_count": 29,
   "metadata": {},
   "outputs": [
    {
     "name": "stdout",
     "output_type": "stream",
     "text": [
      "{'a': 1} 0 0\n",
      "['a', 1]\n"
     ]
    }
   ],
   "source": [
    "s = \"ADOBECODEBANC\"\n",
    "t = \"ABCZ\"\n",
    "s = \"a\"\n",
    "t = \"a\"\n",
    "\n",
    "char_freq = {}\n",
    "for i in t:\n",
    "    char_freq[i] = char_freq.get(i, 0) + 1\n",
    "\n",
    "l = 0\n",
    "r = len(t) - 1\n",
    "res = [\"\", len(s)]\n",
    "print(char_freq, l, r)\n",
    "\n",
    "while l <= r and r <= len(s):\n",
    "    temp_freq = {}\n",
    "    word = s[l:r]\n",
    "    # print(word)\n",
    "    for i in word:\n",
    "        if i in char_freq:\n",
    "            temp_freq[i] = temp_freq.get(i, 0) + 1\n",
    "        if char_freq == temp_freq:\n",
    "            # print(\"dupa\")\n",
    "            break\n",
    "    \n",
    "    if all(temp_freq.get(key, 0) >= value for key, value in char_freq.items()):\n",
    "        if r - l <= res[1]:\n",
    "            res = [word, r - l]\n",
    "        print(res)\n",
    "        l += 1\n",
    "    else:\n",
    "        r += 1\n"
   ]
  },
  {
   "cell_type": "code",
   "execution_count": 18,
   "metadata": {},
   "outputs": [
    {
     "name": "stdout",
     "output_type": "stream",
     "text": [
      "Condition not met.\n"
     ]
    }
   ],
   "source": [
    "dict_1 = {'a': 1, 'b': 1, 'c': 1}\n",
    "dict_2 = {'a': 1, 'b': 2, 'c': 1}\n",
    "\n",
    "# Check condition\n",
    "if all(dict_1.get(key, 0) >= value for key, value in dict_2.items()):\n",
    "    print(\"Condition met: dict_1 has same or higher values.\")\n",
    "else:\n",
    "    print(\"Condition not met.\")"
   ]
  },
  {
   "cell_type": "code",
   "execution_count": null,
   "metadata": {},
   "outputs": [
    {
     "name": "stdout",
     "output_type": "stream",
     "text": [
      "[2341324, 325, 34, 5432, 5, 346, 5, 6, 7, 758, 56, 7, 665, 78, 5467, 356, 35, 765, 867]\n",
      "[5, 5, 6, 7, 7, 34, 35, 56, 78, 325, 346, 356, 665, 758, 765, 867, 5432, 5467, 2341324]\n",
      "[5, 5, 6, 7, 7, 34, 35, 56, 78, 325, 346, 356, 665, 758, 765, 867, 5432, 5467, 2341324]\n",
      "1\n"
     ]
    }
   ],
   "source": [
    "def quicksort(arr):\n",
    "    if len(arr) <= 1:\n",
    "        return arr\n",
    "    else:\n",
    "        pivot = arr[0]\n",
    "        left = [x for x in arr[1:] if x < pivot]\n",
    "        right = [x for x in arr[1:] if x >= pivot]\n",
    "        return quicksort(left) + [pivot] + quicksort(right)\n",
    "\n",
    "def binary_search(arr, x):\n",
    "    low = 0\n",
    "    high = len(arr) - 1\n",
    "    mid = 0\n",
    "\n",
    "    while low <= high:\n",
    "        mid = (low + high) // 2\n",
    "        if arr[mid] < x:\n",
    "            low = mid + 1\n",
    "        elif arr[mid] > x:\n",
    "            high = mid - 1\n",
    "        else:\n",
    "            return mid\n",
    "    return -1\n",
    "\n",
    "def mergeSort(arr):\n",
    "    def merge(left, right):\n",
    "        l, r = 0, 0\n",
    "        res = []\n",
    "        while l < len(left) and r < len(right):\n",
    "            if left[l] < right[r]:\n",
    "                res.append(left[l])\n",
    "                l += 1\n",
    "            else:\n",
    "                res.append(right[r])\n",
    "                r += 1\n",
    "        res.extend(left[l:])\n",
    "        res.extend(right[r:])\n",
    "        return res\n",
    "    \n",
    "    if len(arr) <= 1:\n",
    "        return arr\n",
    "    \n",
    "    mid = len(arr) // 2\n",
    "    leftHalf = arr[:mid]\n",
    "    rightHalf = arr[mid:]\n",
    "\n",
    "    sortedLeft = mergeSort(leftHalf)\n",
    "    sortedRight = mergeSort(rightHalf)\n",
    "\n",
    "    return merge(sortedLeft, sortedRight)\n",
    "\n",
    "\n",
    "arr = [2341324,325,34,5432,5,346,5,6,7,758,56,7,665,78,5467,356,35,765,867]\n",
    "\n",
    "print(arr)\n",
    "qs_arr = quicksort(arr)\n",
    "print(qs_arr)\n",
    "ms_arr = mergeSort(arr)\n",
    "print(ms_arr)\n",
    "print(binary_search(ms_arr, 5))"
   ]
  },
  {
   "cell_type": "code",
   "execution_count": null,
   "metadata": {},
   "outputs": [],
   "source": []
  }
 ],
 "metadata": {
  "kernelspec": {
   "display_name": "multipleVoices",
   "language": "python",
   "name": "python3"
  },
  "language_info": {
   "codemirror_mode": {
    "name": "ipython",
    "version": 3
   },
   "file_extension": ".py",
   "mimetype": "text/x-python",
   "name": "python",
   "nbconvert_exporter": "python",
   "pygments_lexer": "ipython3",
   "version": "3.12.5"
  }
 },
 "nbformat": 4,
 "nbformat_minor": 2
}
