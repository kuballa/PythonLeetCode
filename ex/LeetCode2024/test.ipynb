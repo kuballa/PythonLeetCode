{
 "cells": [
  {
   "cell_type": "code",
   "execution_count": 26,
   "metadata": {},
   "outputs": [
    {
     "name": "stdout",
     "output_type": "stream",
     "text": [
      "4 {}\n",
      "16 {4: 1}\n",
      "37 {4: 1, 16: 1}\n",
      "58 {4: 1, 16: 1, 37: 1}\n",
      "89 {4: 1, 16: 1, 37: 1, 58: 1}\n",
      "145 {4: 1, 16: 1, 37: 1, 58: 1, 89: 1}\n",
      "42 {4: 1, 16: 1, 37: 1, 58: 1, 89: 1, 145: 1}\n",
      "20 {4: 1, 16: 1, 37: 1, 58: 1, 89: 1, 145: 1, 42: 1}\n",
      "4 {4: 1, 16: 1, 37: 1, 58: 1, 89: 1, 145: 1, 42: 1, 20: 1}\n",
      "hello\n"
     ]
    }
   ],
   "source": [
    "n = 2\n",
    "\n",
    "h_dict = {}\n",
    "\n",
    "while True:\n",
    "  n = sum([pow(int(digit), 2) for digit in str(n)])\n",
    "  if n in h_dict:\n",
    "    break\n",
    "  h_dict[n] = 1\n",
    "  if n == 1:\n",
    "    return True\n",
    "return False\n",
    "  \n"
   ]
  },
  {
   "cell_type": "code",
   "execution_count": null,
   "metadata": {},
   "outputs": [],
   "source": []
  }
 ],
 "metadata": {
  "kernelspec": {
   "display_name": "usr",
   "language": "python",
   "name": "python3"
  },
  "language_info": {
   "codemirror_mode": {
    "name": "ipython",
    "version": 3
   },
   "file_extension": ".py",
   "mimetype": "text/x-python",
   "name": "python",
   "nbconvert_exporter": "python",
   "pygments_lexer": "ipython3",
   "version": "3.12.3"
  }
 },
 "nbformat": 4,
 "nbformat_minor": 2
}
