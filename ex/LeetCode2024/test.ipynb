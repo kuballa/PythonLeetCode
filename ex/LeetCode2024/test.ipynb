{
 "cells": [
  {
   "cell_type": "code",
   "execution_count": 4,
   "metadata": {},
   "outputs": [
    {
     "name": "stdout",
     "output_type": "stream",
     "text": [
      "[1, 3523, 543, 65324, 7665, 764, 354, 65432, 423, 625, 675436, 7564, 865, 7345, 6243, 543, 44, 3, 5, 43654, 342, 65, 6346, 345]\n",
      "[1, 3, 5, 44, 65, 342, 345, 354, 423, 543, 543, 625, 764, 865, 3523, 6243, 6346, 7345, 7564, 7665, 43654, 65324, 65432, 675436]\n",
      "[1, 3, 5, 44, 65, 342, 345, 354, 423, 543, 543, 625, 764, 865, 3523, 6243, 6346, 7345, 7564, 7665, 43654, 65324, 65432, 675436]\n",
      "23\n"
     ]
    }
   ],
   "source": [
    "def quicksort(arr):\n",
    "  if len(arr) <= 1:\n",
    "    return arr\n",
    "  else:\n",
    "    pivot = arr[0]\n",
    "    left = [x for x in arr[1:] if x < pivot]\n",
    "    right = [x for x in arr[1:] if x >= pivot]\n",
    "    return quicksort(left) + [pivot] + quicksort(right)\n",
    "  \n",
    "def binary_search(arr, x):\n",
    "  low = 0\n",
    "  high = len(arr) - 1\n",
    "  mid = 0\n",
    "\n",
    "  while low <= high:\n",
    "    mid = (low + high) // 2\n",
    "    if arr[mid] < x:\n",
    "      low = mid + 1\n",
    "    elif arr[mid] > x:\n",
    "      high = mid - 1\n",
    "    else:\n",
    "      return mid\n",
    "  return -1\n",
    "\n",
    "def mergeSort(arr):\n",
    "  def merge(left, right):\n",
    "    l, r = 0, 0\n",
    "    res = []\n",
    "\n",
    "    while l < len(left) and r < len(right):\n",
    "      if left[l] < right[r]:\n",
    "        res.append(left[l])\n",
    "        l += 1\n",
    "      else:\n",
    "        res.append(right[r])\n",
    "        r += 1\n",
    "    \n",
    "    res.extend(left[l:])\n",
    "    res.extend(right[r:])\n",
    "    return res\n",
    "  \n",
    "  if len(arr) <= 1:\n",
    "    return arr\n",
    "  \n",
    "  mid = len(arr) // 2\n",
    "  leftHalf = arr[:mid]\n",
    "  rightHalf = arr[mid:]\n",
    "\n",
    "  sortedLeft = mergeSort(leftHalf)\n",
    "  sortedRight = mergeSort(rightHalf)\n",
    "\n",
    "  return merge(sortedLeft, sortedRight)\n",
    "\n",
    "arr = [1,3523,543,65324,7665,764,354,65432,423,625,675436,7564,865,7345,6243,543,44,3,5,43654,342,65,6346,345]\n",
    "print(arr)\n",
    "qs_arr = quicksort(arr)\n",
    "print(qs_arr)\n",
    "ms_arr = mergeSort(arr)\n",
    "print(ms_arr)\n",
    "print(binary_search(ms_arr, 675436))"
   ]
  },
  {
   "cell_type": "code",
   "execution_count": 9,
   "metadata": {},
   "outputs": [
    {
     "name": "stdout",
     "output_type": "stream",
     "text": [
      "BFS algorithm for graph:  [[1, 2], [0, 3, 4], [0, 4], [1], [1, 2]]\n",
      "01234"
     ]
    }
   ],
   "source": [
    "from collections import deque\n",
    "\n",
    "def bfs(adj, s):\n",
    "  q = deque()\n",
    "  q.append(s)\n",
    "\n",
    "  visited = [False] * len(adj)\n",
    "  visited[s] = True\n",
    "\n",
    "  while q:\n",
    "    curr = q.popleft()\n",
    "    print(curr, end=\"\")\n",
    "\n",
    "    for x in adj[curr]:\n",
    "      if not visited[x]:\n",
    "        q.append(x)\n",
    "        visited[x] = True\n",
    "\n",
    "def add_edge(adj, u, v):\n",
    "  adj[u].append(v)\n",
    "  adj[v].append(u)\n",
    "\n",
    "V = 5\n",
    "\n",
    "adj = [[] for _ in range(V)]\n",
    "\n",
    "nodes = [[0,1], [0,2], [1,3], [1,4], [2,4]]\n",
    "\n",
    "for node in nodes:\n",
    "  add_edge(adj, node[0], node[1])\n",
    "\n",
    "print(\"BFS algorithm for graph: \", adj)\n",
    "bfs(adj, 0)\n",
    "\n"
   ]
  },
  {
   "cell_type": "code",
   "execution_count": 15,
   "metadata": {},
   "outputs": [
    {
     "name": "stdout",
     "output_type": "stream",
     "text": [
      "dupa\n",
      "{'p': [0, 2], 'a': [1], 'e': [3], 'r': [4]} {'t': [0, 2], 'i': [1], 'l': [3], 'e': [4]}\n"
     ]
    }
   ],
   "source": [
    "s = \"paper\"\n",
    "t = \"title\"\n",
    "\n",
    "dict_s = {}\n",
    "dict_t = {}\n",
    "\n",
    "for i, x in enumerate(s):\n",
    "  if x in dict_s:\n",
    "    print('dupa')\n",
    "    dict_s[x].append(i)\n",
    "  else:\n",
    "    dict_s[x] = []\n",
    "    dict_s[x].append(i)\n",
    "\n",
    "for i, x in enumerate(t):\n",
    "  if x in dict_t:\n",
    "    dict_t[x].append(i)\n",
    "  else:\n",
    "    dict_t[x] = []\n",
    "    dict_t[x].append(i)\n",
    "\n",
    "print(dict_s, dict_t)\n",
    "\n",
    "for x, y in zip(dict_s, dict_t):\n",
    "  if not dict_s or not dict_t:\n",
    "    return False\n",
    "  if dict_s[x] != dict_t[y]:\n",
    "    return False\n",
    "\n",
    "return True\n"
   ]
  },
  {
   "cell_type": "code",
   "execution_count": 1,
   "metadata": {},
   "outputs": [
    {
     "name": "stdout",
     "output_type": "stream",
     "text": [
      "[1, 543, 65, 6, 543, 53]\n",
      "[1, 6, 53, 65, 543, 543]\n"
     ]
    }
   ],
   "source": [
    "arr = [1,543,65,6,543,53,]\n",
    "\n",
    "print(arr)\n",
    "arr.sort()\n",
    "print(arr)"
   ]
  },
  {
   "cell_type": "code",
   "execution_count": 3,
   "metadata": {},
   "outputs": [
    {
     "name": "stdout",
     "output_type": "stream",
     "text": [
      "[4624, 456, 546, 54, 654, 6, 5246, 547, 6, 5, 2, 4, 45, 6345, 6, 56, 4326, 234, 1]\n",
      "[1, 2, 4, 5, 6, 6, 6, 45, 54, 56, 234, 456, 546, 547, 654, 4326, 4624, 5246, 6345]\n",
      "[1, 2, 4, 5, 6, 6, 6, 45, 54, 56, 234, 456, 546, 547, 654, 4326, 4624, 5246, 6345]\n",
      "18\n"
     ]
    }
   ],
   "source": [
    "def quicksort(arr):\n",
    "  if len(arr) <= 1:\n",
    "    return arr\n",
    "  else:\n",
    "    pivot = arr[0]\n",
    "    left = [x for x in arr[1:] if x < pivot]\n",
    "    right = [x for x in arr[1:] if x >= pivot]\n",
    "    return quicksort(left) + [pivot] + quicksort(right)\n",
    "\n",
    "def binary_search(arr, x):\n",
    "  low = 0\n",
    "  high = len(arr) - 1\n",
    "  mid = 0\n",
    "\n",
    "  while low <= high:\n",
    "    mid = (low + high) // 2\n",
    "    if arr[mid] < x:\n",
    "      low = mid + 1\n",
    "    elif arr[mid] > x:\n",
    "      high = mid - 1\n",
    "    else:\n",
    "      return mid\n",
    "  return -1\n",
    "\n",
    "def mergeSort(arr):\n",
    "  def merge(left, right):\n",
    "    l, r = 0, 0\n",
    "    res = []\n",
    "\n",
    "    while l < len(left) and r < len(right):\n",
    "      if left[l] < right[r]:\n",
    "        res.append(left[l])\n",
    "        l += 1\n",
    "      else:\n",
    "        res.append(right[r])\n",
    "        r += 1\n",
    "    \n",
    "    res.extend(left[l:])\n",
    "    res.extend(right[r:])\n",
    "    return res\n",
    "  \n",
    "  if len(arr) <= 1:\n",
    "    return arr\n",
    "  \n",
    "  mid = len(arr) // 2\n",
    "  leftHalf = arr[:mid]\n",
    "  rightHalf = arr[mid:]\n",
    "\n",
    "  sortedLeft = mergeSort(leftHalf)\n",
    "  sortedRight = mergeSort(rightHalf)\n",
    "\n",
    "  return merge(sortedLeft, sortedRight)\n",
    "\n",
    "arr = [4624,456,546,54,654,6,5246,547,6,5,2,4,45,6345,6,56,4326,234,1]\n",
    "\n",
    "print(arr)\n",
    "qs_arr = quicksort(arr)\n",
    "print(qs_arr)\n",
    "ms_arr = mergeSort(arr)\n",
    "print(ms_arr)\n",
    "print(binary_search(ms_arr, 6345))"
   ]
  },
  {
   "cell_type": "code",
   "execution_count": 4,
   "metadata": {},
   "outputs": [
    {
     "name": "stdout",
     "output_type": "stream",
     "text": [
      "BFS algorithm to check on graph:  [[1, 2], [0, 3, 4], [0, 4], [1], [1, 2]]\n",
      "01234"
     ]
    }
   ],
   "source": [
    "from collections import deque\n",
    "\n",
    "def bfs(adj, s):\n",
    "  q = deque()\n",
    "  q.append(s)\n",
    "\n",
    "  visited = [False] * len(adj)\n",
    "  visited[s] = True\n",
    "\n",
    "  while q:\n",
    "    curr = q.popleft()\n",
    "    print(curr, end=\"\")\n",
    "\n",
    "    for x in adj[curr]:\n",
    "      if not visited[x]:\n",
    "        q.append(x)\n",
    "        visited[x] = True\n",
    "\n",
    "def add_edge(adj, u, v):\n",
    "  adj[u].append(v)\n",
    "  adj[v].append(u)\n",
    "\n",
    "V = 5\n",
    "adj = [[] for _ in range(V)]\n",
    "nodes = [[0,1],[0,2],[1,3],[1,4],[2,4]]\n",
    "\n",
    "for node in nodes:\n",
    "  add_edge(adj, node[0], node[1])\n",
    "\n",
    "print(\"BFS algorithm to check on graph: \", adj)\n",
    "bfs(adj, 0)"
   ]
  },
  {
   "cell_type": "code",
   "execution_count": null,
   "metadata": {},
   "outputs": [],
   "source": []
  }
 ],
 "metadata": {
  "kernelspec": {
   "display_name": "usr",
   "language": "python",
   "name": "python3"
  },
  "language_info": {
   "codemirror_mode": {
    "name": "ipython",
    "version": 3
   },
   "file_extension": ".py",
   "mimetype": "text/x-python",
   "name": "python",
   "nbconvert_exporter": "python",
   "pygments_lexer": "ipython3",
   "version": "3.12.3"
  }
 },
 "nbformat": 4,
 "nbformat_minor": 2
}
