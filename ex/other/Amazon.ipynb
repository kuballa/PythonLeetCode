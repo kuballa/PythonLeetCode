{
 "cells": [
  {
   "cell_type": "markdown",
   "metadata": {},
   "source": [
    "# [Sum fo System Vulnerability](https://www.fastprep.io/problems/amazon-find-sum-of-system-vulnerability)"
   ]
  },
  {
   "cell_type": "code",
   "execution_count": 16,
   "metadata": {},
   "outputs": [
    {
     "data": {
      "text/plain": [
       "29"
      ]
     },
     "execution_count": 16,
     "metadata": {},
     "output_type": "execute_result"
    }
   ],
   "source": [
    "vulnerability = [3, 2, 3]\n",
    "\n",
    "def sumOfSystemVulnerability(vulnerability):\n",
    "  result = 0\n",
    "  max_vul = 0\n",
    "  n = len(vulnerability)\n",
    "\n",
    "  for i in range(n):\n",
    "    for j in range(i, n):\n",
    "      max_vul = max(vulnerability[j], max_vul)\n",
    "      result += max_vul * (j + 1 - i)\n",
    "    max_vul = 0\n",
    "\n",
    "  return result\n",
    "\n",
    "sumOfSystemVulnerability(vulnerability)"
   ]
  },
  {
   "cell_type": "code",
   "execution_count": null,
   "metadata": {},
   "outputs": [],
   "source": []
  },
  {
   "cell_type": "markdown",
   "metadata": {},
   "source": [
    "# [Find Max Value](https://www.fastprep.io/problems/amazon-find-max-value)"
   ]
  },
  {
   "cell_type": "code",
   "execution_count": 17,
   "metadata": {},
   "outputs": [
    {
     "name": "stdout",
     "output_type": "stream",
     "text": [
      "15\n"
     ]
    }
   ],
   "source": [
    "def binary_insert(arr, value):\n",
    "  low = 0\n",
    "  high = len(arr) - 1\n",
    "  mid = 0\n",
    "\n",
    "  while low <= high:\n",
    "    mid = (low + high) // 2\n",
    "    if arr[mid] < value:\n",
    "      low = mid + 1\n",
    "    elif arr[mid] > value:\n",
    "      high = mid - 1\n",
    "    else:\n",
    "      return mid\n",
    "  return mid + 1 if value > arr[-1] else mid\n",
    "\n",
    "factor = [1, 2, 1]\n",
    "data = [[1, 2, 3], [4, 5, 6], [7, 8, 9]]\n",
    "x = 2\n",
    "\n",
    "def findMaxValue(factor, data, x):\n",
    "  result = []\n",
    "  for i, d in enumerate(data):\n",
    "    result.extend(d[-factor[i]:])\n",
    "  return sum(result[-x:])\n",
    "\n",
    "print(findMaxValue(factor, data, x))\n"
   ]
  },
  {
   "cell_type": "code",
   "execution_count": null,
   "metadata": {},
   "outputs": [],
   "source": []
  },
  {
   "cell_type": "markdown",
   "metadata": {},
   "source": [
    "# [Get Stable Periods Count (Fungible :)](https://www.fastprep.io/problems/amazon-get-stable-periods-count)"
   ]
  },
  {
   "cell_type": "code",
   "execution_count": 18,
   "metadata": {},
   "outputs": [
    {
     "name": "stdout",
     "output_type": "stream",
     "text": [
      "**********************************************************************\n",
      "File \"__main__\", line 6, in __main__.reduceMemoryUsage\n",
      "Failed example:\n",
      "    reduceMemoryUsage([10, 4, 8, 13, 20], 2)\n",
      "Expected:\n",
      "    22\n",
      "Got:\n",
      "    [10, 4]\n",
      "    [4, 8]\n",
      "    [8, 13]\n",
      "**********************************************************************\n",
      "1 items had failures:\n",
      "   1 of   1 in __main__.reduceMemoryUsage\n",
      "***Test Failed*** 1 failures.\n"
     ]
    },
    {
     "data": {
      "text/plain": [
       "TestResults(failed=1, attempted=17)"
      ]
     },
     "execution_count": 18,
     "metadata": {},
     "output_type": "execute_result"
    }
   ],
   "source": [
    "import doctest\n",
    "def getStablePeriodsCount(revenues, k):\n",
    "  \"\"\"\n",
    "    Get Stable Periods Count.\n",
    "    >>> getStablePeriodsCount([1, 2, 1], 1)\n",
    "    3\n",
    "    >>> getStablePeriodsCount([2, -3, 2, -3], 2)\n",
    "    10\n",
    "  \"\"\"\n",
    "  n = len(revenues)\n",
    "  result = 0\n",
    "  for i in range(0, n):\n",
    "    for j in range(i, n):\n",
    "      if len(set(revenues[i:j + 1])) <= k:\n",
    "        result += 1\n",
    "  return result\n",
    "\n",
    "doctest.testmod()"
   ]
  },
  {
   "cell_type": "code",
   "execution_count": null,
   "metadata": {},
   "outputs": [],
   "source": []
  },
  {
   "cell_type": "markdown",
   "metadata": {},
   "source": [
    "# [Find Length of Longest Self-Sufficient Proper Substring](https://www.fastprep.io/problems/amazon-find-length-of-longest-self-sufficient-proper-substring)"
   ]
  },
  {
   "cell_type": "markdown",
   "metadata": {},
   "source": [
    "similar problem\n",
    "[3104. Find Longest Self-Contained Substring](https://github.com/doocs/leetcode/blob/main/solution/3100-3199/3104.Find%20Longest%20Self-Contained%20Substring/README_EN.md)"
   ]
  },
  {
   "cell_type": "code",
   "execution_count": 19,
   "metadata": {},
   "outputs": [
    {
     "name": "stdout",
     "output_type": "stream",
     "text": [
      "**********************************************************************\n",
      "File \"__main__\", line 6, in __main__.reduceMemoryUsage\n",
      "Failed example:\n",
      "    reduceMemoryUsage([10, 4, 8, 13, 20], 2)\n",
      "Expected:\n",
      "    22\n",
      "Got:\n",
      "    [10, 4]\n",
      "    [4, 8]\n",
      "    [8, 13]\n",
      "**********************************************************************\n",
      "1 items had failures:\n",
      "   1 of   1 in __main__.reduceMemoryUsage\n",
      "***Test Failed*** 1 failures.\n"
     ]
    },
    {
     "data": {
      "text/plain": [
       "TestResults(failed=1, attempted=17)"
      ]
     },
     "execution_count": 19,
     "metadata": {},
     "output_type": "execute_result"
    }
   ],
   "source": [
    "import doctest\n",
    "def findLengthOfLongestSelfSufficientSubstring(fullString):\n",
    "  \"\"\"\n",
    "    Find Length Of Longest Self Sufficient Substring\n",
    "    >>> findLengthOfLongestSelfSufficientSubstring(\"amazonservices\")\n",
    "    11\n",
    "    >>> findLengthOfLongestSelfSufficientSubstring(\"amazon\")\n",
    "    5\n",
    "    >>> findLengthOfLongestSelfSufficientSubstring(\"services\")\n",
    "    6\n",
    "  \"\"\"\n",
    "  first, last = {}, {}\n",
    "  for i, c in enumerate(fullString):\n",
    "    if c not in first:\n",
    "      first[c] = i\n",
    "    last[c] = i\n",
    "  result, n = 0, len(fullString)\n",
    "  for c, i in first.items():\n",
    "    mx = last[c]\n",
    "    for j in range(i, n):\n",
    "      a, b = first[fullString[j]], last[fullString[j]]\n",
    "      if a < i:\n",
    "        break\n",
    "      mx = max(mx, b)\n",
    "      if mx == j and j - i + 1 < n:\n",
    "        result = max(result, j - i + 1)\n",
    "\n",
    "  return result\n",
    "\n",
    "doctest.testmod()"
   ]
  },
  {
   "cell_type": "markdown",
   "metadata": {},
   "source": [
    "# [Minimum Starting Health to Win the Game](https://www.fastprep.io/problems/amazon-minimum-starting-health-to-win-the-game)"
   ]
  },
  {
   "cell_type": "code",
   "execution_count": 20,
   "metadata": {},
   "outputs": [
    {
     "name": "stdout",
     "output_type": "stream",
     "text": [
      "**********************************************************************\n",
      "File \"__main__\", line 6, in __main__.reduceMemoryUsage\n",
      "Failed example:\n",
      "    reduceMemoryUsage([10, 4, 8, 13, 20], 2)\n",
      "Expected:\n",
      "    22\n",
      "Got:\n",
      "    [10, 4]\n",
      "    [4, 8]\n",
      "    [8, 13]\n",
      "**********************************************************************\n",
      "1 items had failures:\n",
      "   1 of   1 in __main__.reduceMemoryUsage\n",
      "***Test Failed*** 1 failures.\n"
     ]
    },
    {
     "data": {
      "text/plain": [
       "TestResults(failed=1, attempted=17)"
      ]
     },
     "execution_count": 20,
     "metadata": {},
     "output_type": "execute_result"
    }
   ],
   "source": [
    "import doctest\n",
    "def minimumStartingHealth(power, armor) -> int:\n",
    "  \"\"\"\n",
    "    Find minimum starting Health\n",
    "    >>> minimumStartingHealth([1, 2, 6, 7], 5)\n",
    "    12\n",
    "    >>> minimumStartingHealth([1, 2, 3], 1)\n",
    "    6\n",
    "  \"\"\"\n",
    "  result = 0\n",
    "  length = len(power)\n",
    "  for i in range(length - 1, -1, -1):\n",
    "    if i == (length - 1):\n",
    "      result += max(power[i] - armor, 0)\n",
    "    else:\n",
    "      result += power[i]\n",
    "    \n",
    "  return result + 1\n",
    "\n",
    "doctest.testmod()"
   ]
  },
  {
   "cell_type": "code",
   "execution_count": null,
   "metadata": {},
   "outputs": [],
   "source": []
  },
  {
   "cell_type": "markdown",
   "metadata": {},
   "source": [
    "# [Get Max Skill Sum](https://www.fastprep.io/problems/amazon-get-max-skill-sum)"
   ]
  },
  {
   "cell_type": "code",
   "execution_count": 21,
   "metadata": {},
   "outputs": [
    {
     "name": "stdout",
     "output_type": "stream",
     "text": [
      "**********************************************************************\n",
      "File \"__main__\", line 6, in __main__.reduceMemoryUsage\n",
      "Failed example:\n",
      "    reduceMemoryUsage([10, 4, 8, 13, 20], 2)\n",
      "Expected:\n",
      "    22\n",
      "Got:\n",
      "    [10, 4]\n",
      "    [4, 8]\n",
      "    [8, 13]\n",
      "**********************************************************************\n",
      "1 items had failures:\n",
      "   1 of   1 in __main__.reduceMemoryUsage\n",
      "***Test Failed*** 1 failures.\n"
     ]
    },
    {
     "data": {
      "text/plain": [
       "TestResults(failed=1, attempted=17)"
      ]
     },
     "execution_count": 21,
     "metadata": {},
     "output_type": "execute_result"
    }
   ],
   "source": [
    "from typing import List\n",
    "import doctest\n",
    "def getMaxSkillSum(expertise: List[int], skill: List[int]) -> int:\n",
    "  \"\"\"\n",
    "  Find the max skill sum in the array\n",
    "  >>> getMaxSkillSum([0, 0, 0, 1], [10, 2, 3, 4])\n",
    "  7\n",
    "  >>> getMaxSkillSum([0, 0, 1, 0, 1, 0, 0], [2, 5, 7, 3, 10, 11, 20])\n",
    "  31\n",
    "  \"\"\"\n",
    "  dev = expertise.count(1)\n",
    "  n = len(expertise)\n",
    "  result = 0\n",
    "\n",
    "  window = 2 * min(dev, n - dev)\n",
    "\n",
    "  l, r = 0, window\n",
    "  while r <= n:\n",
    "    if expertise[l:r].count(0) == dev:\n",
    "      result = max(result, sum(skill[l:r]))\n",
    "    l, r = l + 1, r + 1\n",
    "\n",
    "  return result\n",
    "\n",
    "doctest.testmod()\n"
   ]
  },
  {
   "cell_type": "code",
   "execution_count": null,
   "metadata": {},
   "outputs": [],
   "source": []
  },
  {
   "cell_type": "markdown",
   "metadata": {},
   "source": [
    "# [Optimize Identifiers](https://www.fastprep.io/problems/amazon-optimize-identifiers)"
   ]
  },
  {
   "cell_type": "code",
   "execution_count": 22,
   "metadata": {},
   "outputs": [
    {
     "name": "stdout",
     "output_type": "stream",
     "text": [
      "**********************************************************************\n",
      "File \"__main__\", line 6, in __main__.reduceMemoryUsage\n",
      "Failed example:\n",
      "    reduceMemoryUsage([10, 4, 8, 13, 20], 2)\n",
      "Expected:\n",
      "    22\n",
      "Got:\n",
      "    [10, 4]\n",
      "    [4, 8]\n",
      "    [8, 13]\n",
      "**********************************************************************\n",
      "1 items had failures:\n",
      "   1 of   1 in __main__.reduceMemoryUsage\n",
      "***Test Failed*** 1 failures.\n"
     ]
    },
    {
     "data": {
      "text/plain": [
       "TestResults(failed=1, attempted=17)"
      ]
     },
     "execution_count": 22,
     "metadata": {},
     "output_type": "execute_result"
    }
   ],
   "source": [
    "import doctest\n",
    "def optimizeIndentifiers(s: str) -> int:\n",
    "  \"\"\"\n",
    "  Optimize Indentifiers\n",
    "  >>> optimizeIndentifiers(\"babdcaac\")\n",
    "  5\n",
    "  >>> optimizeIndentifiers(\"hchc\")\n",
    "  2\n",
    "  >>> optimizeIndentifiers(\"abbc\")\n",
    "  0\n",
    "  \"\"\"\n",
    "  first, last = [], []\n",
    "  n = len(s)\n",
    "  result = 0\n",
    "\n",
    "  for i, c in enumerate(s):\n",
    "    if c == s[0]:\n",
    "      first.append(i)\n",
    "    if c == s[-1]:\n",
    "      last.append(i)\n",
    "\n",
    "  for i in first:\n",
    "    for j in last:\n",
    "      diff = (j + 1 - i)\n",
    "      if diff > 0 and diff < n:\n",
    "        result = max(n - diff, result)\n",
    "\n",
    "  return result if result < n else 0\n",
    "\n",
    "doctest.testmod()"
   ]
  },
  {
   "cell_type": "code",
   "execution_count": null,
   "metadata": {},
   "outputs": [],
   "source": []
  },
  {
   "cell_type": "markdown",
   "metadata": {},
   "source": [
    "# [Find Encrypted Number (Amazon Germany :)](https://www.fastprep.io/problems/amazon-find-encrypted-number)"
   ]
  },
  {
   "cell_type": "code",
   "execution_count": 23,
   "metadata": {},
   "outputs": [
    {
     "name": "stdout",
     "output_type": "stream",
     "text": [
      "**********************************************************************\n",
      "File \"__main__\", line 6, in __main__.reduceMemoryUsage\n",
      "Failed example:\n",
      "    reduceMemoryUsage([10, 4, 8, 13, 20], 2)\n",
      "Expected:\n",
      "    22\n",
      "Got:\n",
      "    [10, 4]\n",
      "    [4, 8]\n",
      "    [8, 13]\n",
      "**********************************************************************\n",
      "1 items had failures:\n",
      "   1 of   1 in __main__.reduceMemoryUsage\n",
      "***Test Failed*** 1 failures.\n"
     ]
    },
    {
     "data": {
      "text/plain": [
       "TestResults(failed=1, attempted=17)"
      ]
     },
     "execution_count": 23,
     "metadata": {},
     "output_type": "execute_result"
    }
   ],
   "source": [
    "import doctest\n",
    "from typing import List\n",
    "def findEncryptedNumber(numbers: List[int]) -> str:\n",
    "  \"\"\"\n",
    "  Find Encrypted Number\n",
    "  >>> findEncryptedNumber([4, 5, 6, 7])\n",
    "  '04'\n",
    "  >>> findEncryptedNumber([11, 13, 15, 3, 2])\n",
    "  '89'\n",
    "  >>> findEncryptedNumber([1, 1, 1, 1, 1, 1, 1, 1, 1, 1, 1, 1, 1])\n",
    "  '88'\n",
    "  \"\"\"\n",
    "  n = len(numbers) - 1\n",
    "  while n >= 2:\n",
    "    for i in range(n):\n",
    "      numbers[i] = (numbers[i] + numbers[i + 1]) % 10\n",
    "    n -= 1\n",
    "\n",
    "  return \"\".join(map(str, numbers[0:2]))\n",
    "\n",
    "doctest.testmod()"
   ]
  },
  {
   "cell_type": "code",
   "execution_count": null,
   "metadata": {},
   "outputs": [],
   "source": []
  },
  {
   "cell_type": "markdown",
   "metadata": {},
   "source": [
    "# [Minimum Insertions to Make List a Subsequence (Amazon Germany :)](https://www.fastprep.io/problems/amazon-minimum-insertions)"
   ]
  },
  {
   "cell_type": "code",
   "execution_count": 24,
   "metadata": {},
   "outputs": [
    {
     "name": "stdout",
     "output_type": "stream",
     "text": [
      "**********************************************************************\n",
      "File \"__main__\", line 6, in __main__.reduceMemoryUsage\n",
      "Failed example:\n",
      "    reduceMemoryUsage([10, 4, 8, 13, 20], 2)\n",
      "Expected:\n",
      "    22\n",
      "Got:\n",
      "    [10, 4]\n",
      "    [4, 8]\n",
      "    [8, 13]\n",
      "**********************************************************************\n",
      "1 items had failures:\n",
      "   1 of   1 in __main__.reduceMemoryUsage\n",
      "***Test Failed*** 1 failures.\n"
     ]
    },
    {
     "data": {
      "text/plain": [
       "TestResults(failed=1, attempted=17)"
      ]
     },
     "execution_count": 24,
     "metadata": {},
     "output_type": "execute_result"
    }
   ],
   "source": [
    "import doctest\n",
    "from typing import List\n",
    "\n",
    "def minimumInsertions(finalList: List[int], initialList: List[int]) -> int:\n",
    "  \"\"\"\n",
    "  Find Encrypted Number\n",
    "  >>> minimumInsertions([5, 1, 3], [9, 4, 2, 3, 4])\n",
    "  2\n",
    "  \"\"\"\n",
    "  init_dict = {}\n",
    "  for elem in initialList:\n",
    "    init_dict[elem] = init_dict.get(elem, 0) + 1\n",
    "  \n",
    "  result = 0\n",
    "  for elem in finalList:\n",
    "    if elem not in init_dict:\n",
    "      result += 1\n",
    "    \n",
    "  return result\n",
    "\n",
    "doctest.testmod()"
   ]
  },
  {
   "cell_type": "code",
   "execution_count": null,
   "metadata": {},
   "outputs": [],
   "source": []
  },
  {
   "cell_type": "markdown",
   "metadata": {},
   "source": [
    "# [Reduce Memory Usage](https://www.fastprep.io/problems/amazon-reduce-memory-usage)"
   ]
  },
  {
   "cell_type": "code",
   "execution_count": 6,
   "metadata": {},
   "outputs": [
    {
     "data": {
      "text/plain": [
       "TestResults(failed=0, attempted=1)"
      ]
     },
     "execution_count": 6,
     "metadata": {},
     "output_type": "execute_result"
    }
   ],
   "source": [
    "\n",
    "import doctest\n",
    "from typing import List\n",
    "def reduceMemoryUsage(processes: List[int], m: int) -> int:\n",
    "  \"\"\"\n",
    "  Find Encrypted Number\n",
    "  >>> reduceMemoryUsage([10, 4, 8, 13, 20], 2)\n",
    "  22\n",
    "  \"\"\"\n",
    "  l, r = 0, m\n",
    "  n = len(processes)\n",
    "  processes_sum = sum(processes)\n",
    "  m_sum = 0\n",
    "\n",
    "  while r <= n:\n",
    "    m_sum = max(m_sum, sum(processes[l:r]))\n",
    "    l, r = l + 1, r + 1\n",
    "  return processes_sum - m_sum\n",
    "\n",
    "doctest.testmod()"
   ]
  },
  {
   "cell_type": "code",
   "execution_count": null,
   "metadata": {},
   "outputs": [],
   "source": []
  },
  {
   "cell_type": "markdown",
   "metadata": {},
   "source": [
    "# [Minimize Effort with EffiBin Kit](https://www.fastprep.io/problems/amazon-minimize-effort)"
   ]
  },
  {
   "cell_type": "code",
   "execution_count": 38,
   "metadata": {},
   "outputs": [
    {
     "data": {
      "text/plain": [
       "TestResults(failed=0, attempted=2)"
      ]
     },
     "execution_count": 38,
     "metadata": {},
     "output_type": "execute_result"
    }
   ],
   "source": [
    "import doctest\n",
    "from typing import List\n",
    "\n",
    "def minimizeEffort(effort: List[int]) -> int:\n",
    "  \"\"\"\n",
    "  Find Encrypted Number\n",
    "  >>> minimizeEffort([3, 6, 2, 5, 25])\n",
    "  17\n",
    "  >>> minimizeEffort([3, 6, 2, 5, 25, 25, 6])\n",
    "  24\n",
    "  \"\"\"\n",
    "  # dict_effort = {}\n",
    "  # for elem in effort:\n",
    "  #   if elem not in dict_effort:\n",
    "  #     dict_effort[elem] = []\n",
    "  #   dict_effort[elem].append(elem)\n",
    "  \n",
    "  # for i, x in enumerate(effort):\n",
    "  #   for j, y in enumerate(effort):\n",
    "  #     if i == j:\n",
    "  #       continue\n",
    "  #     if x % y == 0:\n",
    "  #       effort[i] = min(y, effort[i])\n",
    "  #       # print(x, y, \"first\")\n",
    "  #     elif y % x == 0:\n",
    "  #       effort[i] = min(x, effort[i])\n",
    "  #       # print(x, y, \"second\")\n",
    "\n",
    "  # return sum(effort)\n",
    "  effort.sort()\n",
    "  dict_effort = {}\n",
    "  result = 0\n",
    "\n",
    "  for elem in effort:\n",
    "    dict_effort[elem] = dict_effort.get(elem, 0) + 1\n",
    "  \n",
    "  for k1 in set(effort):\n",
    "    for k in dict_effort.keys():\n",
    "      if k1 % k == 0 and k != k1:\n",
    "        dict_effort[k] += dict_effort[k1]\n",
    "        dict_effort[k1] = 0\n",
    "\n",
    "  for k, v in dict_effort.items():\n",
    "    result += k * v\n",
    "  \n",
    "  return result\n",
    "\n",
    "doctest.testmod()"
   ]
  },
  {
   "cell_type": "markdown",
   "metadata": {},
   "source": [
    "# [Find Maximum Total Amount (SDE I, Fungible :)](https://www.fastprep.io/problems/amazon-find-maximum-total-amount)"
   ]
  },
  {
   "cell_type": "code",
   "execution_count": null,
   "metadata": {},
   "outputs": [],
   "source": []
  },
  {
   "cell_type": "markdown",
   "metadata": {},
   "source": [
    "# [Regulate Temperatures](https://www.fastprep.io/problems/amazon-regulate-temperatures)"
   ]
  },
  {
   "cell_type": "code",
   "execution_count": null,
   "metadata": {},
   "outputs": [],
   "source": []
  },
  {
   "cell_type": "markdown",
   "metadata": {},
   "source": [
    "# [Find Maximum Packages](https://www.fastprep.io/problems/amazon-find-maximum-packages)"
   ]
  },
  {
   "cell_type": "code",
   "execution_count": null,
   "metadata": {},
   "outputs": [],
   "source": []
  },
  {
   "cell_type": "markdown",
   "metadata": {},
   "source": [
    "# [Determine the Volumes You Would Purchase Each Day](https://www.fastprep.io/problems/amazon-determine-the-volumes-you-would-purchase-each-day)"
   ]
  },
  {
   "cell_type": "code",
   "execution_count": null,
   "metadata": {},
   "outputs": [],
   "source": []
  },
  {
   "cell_type": "markdown",
   "metadata": {},
   "source": [
    "# [Check Similar Passwords (Also for Fungile)](https://www.fastprep.io/problems/check-similar-passwords)"
   ]
  },
  {
   "cell_type": "code",
   "execution_count": null,
   "metadata": {},
   "outputs": [],
   "source": []
  },
  {
   "cell_type": "markdown",
   "metadata": {},
   "source": [
    "# [Custom Sort String](https://www.fastprep.io/problems/amazon-custom-sort-string)"
   ]
  },
  {
   "cell_type": "code",
   "execution_count": null,
   "metadata": {},
   "outputs": [],
   "source": []
  },
  {
   "cell_type": "markdown",
   "metadata": {},
   "source": [
    "# [Get Smaller Items](https://www.fastprep.io/problems/amazon-get-smaller-items)"
   ]
  },
  {
   "cell_type": "code",
   "execution_count": null,
   "metadata": {},
   "outputs": [],
   "source": []
  },
  {
   "cell_type": "markdown",
   "metadata": {},
   "source": [
    "# [Minimum Weekly Input (Planning Campaingns :)](https://www.fastprep.io/problems/amazon-minimum-weekly-input)"
   ]
  },
  {
   "cell_type": "code",
   "execution_count": null,
   "metadata": {},
   "outputs": [],
   "source": []
  },
  {
   "cell_type": "markdown",
   "metadata": {},
   "source": [
    "# [Find Minimum Time](https://www.fastprep.io/problems/amazon-find-minimum-time)"
   ]
  },
  {
   "cell_type": "code",
   "execution_count": null,
   "metadata": {},
   "outputs": [],
   "source": []
  },
  {
   "cell_type": "markdown",
   "metadata": {},
   "source": [
    "# [Get Max Programs](https://www.fastprep.io/problems/amazon-get-max-programs)"
   ]
  },
  {
   "cell_type": "code",
   "execution_count": null,
   "metadata": {},
   "outputs": [],
   "source": []
  },
  {
   "cell_type": "markdown",
   "metadata": {},
   "source": [
    "# [Get Min Cost](https://www.fastprep.io/problems/amazon-get-min-cost-book)"
   ]
  },
  {
   "cell_type": "code",
   "execution_count": null,
   "metadata": {},
   "outputs": [],
   "source": []
  },
  {
   "cell_type": "markdown",
   "metadata": {},
   "source": [
    "# [Find Minimum Time to Create Beautiful Canvas](https://www.fastprep.io/problems/amazon-find-minimum-time-to-create-beautiful-canvas)"
   ]
  },
  {
   "cell_type": "code",
   "execution_count": null,
   "metadata": {},
   "outputs": [],
   "source": []
  },
  {
   "cell_type": "markdown",
   "metadata": {},
   "source": [
    "# [Find Minimum Cost](https://www.fastprep.io/problems/amazon-find-minimum-cost)"
   ]
  },
  {
   "cell_type": "code",
   "execution_count": null,
   "metadata": {},
   "outputs": [],
   "source": []
  },
  {
   "cell_type": "markdown",
   "metadata": {},
   "source": [
    "# [Get Max Alternating Music](https://www.fastprep.io/problems/amazon-get-max-alternating-music)"
   ]
  },
  {
   "cell_type": "code",
   "execution_count": null,
   "metadata": {},
   "outputs": [],
   "source": []
  },
  {
   "cell_type": "markdown",
   "metadata": {},
   "source": [
    "# [Maximize Secondary Tasks Scheduled](https://www.fastprep.io/problems/amazon-maximize-secondary-tasks-scheduled)"
   ]
  },
  {
   "cell_type": "code",
   "execution_count": null,
   "metadata": {},
   "outputs": [],
   "source": []
  },
  {
   "cell_type": "markdown",
   "metadata": {},
   "source": [
    "# [Find Maximum Calories](https://www.fastprep.io/problems/amazon-find-maximum-calories)"
   ]
  },
  {
   "cell_type": "code",
   "execution_count": null,
   "metadata": {},
   "outputs": [],
   "source": []
  },
  {
   "cell_type": "markdown",
   "metadata": {},
   "source": [
    "# [Find Sum of Beauties](https://www.fastprep.io/problems/amazon-find-sum-of-beauties)"
   ]
  },
  {
   "cell_type": "code",
   "execution_count": null,
   "metadata": {},
   "outputs": [],
   "source": []
  },
  {
   "cell_type": "markdown",
   "metadata": {},
   "source": [
    "# [Get Maximum Sum](https://www.fastprep.io/problems/amazon-get-max-sum)"
   ]
  },
  {
   "cell_type": "code",
   "execution_count": null,
   "metadata": {},
   "outputs": [],
   "source": []
  },
  {
   "cell_type": "markdown",
   "metadata": {},
   "source": [
    "# [Find Capable Winners](https://www.fastprep.io/problems/amazon-find-capable-winners)"
   ]
  },
  {
   "cell_type": "code",
   "execution_count": null,
   "metadata": {},
   "outputs": [],
   "source": []
  },
  {
   "cell_type": "markdown",
   "metadata": {},
   "source": [
    "# [Get Maximum Information Gain](https://www.fastprep.io/problems/amazon-get-max-information-gain)"
   ]
  },
  {
   "cell_type": "code",
   "execution_count": null,
   "metadata": {},
   "outputs": [],
   "source": []
  },
  {
   "cell_type": "markdown",
   "metadata": {},
   "source": [
    "# [Get Minimum Pen Drive Size](https://www.fastprep.io/problems/amazon-get-min-size)"
   ]
  },
  {
   "cell_type": "code",
   "execution_count": null,
   "metadata": {},
   "outputs": [],
   "source": []
  },
  {
   "cell_type": "markdown",
   "metadata": {},
   "source": [
    "# [Calculate Beauty Values](https://www.fastprep.io/problems/amazon-calculate-beauty-values)"
   ]
  },
  {
   "cell_type": "code",
   "execution_count": null,
   "metadata": {},
   "outputs": [],
   "source": []
  },
  {
   "cell_type": "markdown",
   "metadata": {},
   "source": [
    "# [Minimize Maximum Parcels](https://www.fastprep.io/problems/amazon-minimize-maximum-parcels)"
   ]
  },
  {
   "cell_type": "code",
   "execution_count": null,
   "metadata": {},
   "outputs": [],
   "source": []
  },
  {
   "cell_type": "markdown",
   "metadata": {},
   "source": [
    "# [Get Maximum Sum (a.k.a. Find Max Health Sum :P](https://www.fastprep.io/problems/amazon-get-maximum-sum)"
   ]
  },
  {
   "cell_type": "code",
   "execution_count": null,
   "metadata": {},
   "outputs": [],
   "source": []
  },
  {
   "cell_type": "markdown",
   "metadata": {},
   "source": [
    "# [Process Queries on Cart](https://www.fastprep.io/problems/amazon-process-queries-on-cart)"
   ]
  },
  {
   "cell_type": "code",
   "execution_count": null,
   "metadata": {},
   "outputs": [],
   "source": []
  },
  {
   "cell_type": "markdown",
   "metadata": {},
   "source": [
    "# [Get Minimum Boxes](https://www.fastprep.io/problems/amazon-get-minimum-boxes)"
   ]
  },
  {
   "cell_type": "code",
   "execution_count": null,
   "metadata": {},
   "outputs": [],
   "source": []
  },
  {
   "cell_type": "markdown",
   "metadata": {},
   "source": [
    "# [Compute Encoded Product Name](https://www.fastprep.io/problems/amazon-compute-encoded-product-name)"
   ]
  },
  {
   "cell_type": "code",
   "execution_count": null,
   "metadata": {},
   "outputs": [],
   "source": []
  },
  {
   "cell_type": "markdown",
   "metadata": {},
   "source": [
    "# [Is Regex Matching](https://www.fastprep.io/problems/amazon-is-regex-matching)"
   ]
  },
  {
   "cell_type": "code",
   "execution_count": null,
   "metadata": {},
   "outputs": [],
   "source": []
  },
  {
   "cell_type": "markdown",
   "metadata": {},
   "source": [
    "# [Get Max Aggregate Temperature Change](https://www.fastprep.io/problems/amazon-get-max-aggregate-temperature-change)"
   ]
  },
  {
   "cell_type": "code",
   "execution_count": null,
   "metadata": {},
   "outputs": [],
   "source": []
  },
  {
   "cell_type": "markdown",
   "metadata": {},
   "source": [
    "# [Find Encrypted Password (A.K.A Compute Encoded Product Name](https://www.fastprep.io/problems/amazon-find-encrypted-password)"
   ]
  },
  {
   "cell_type": "code",
   "execution_count": null,
   "metadata": {},
   "outputs": [],
   "source": []
  },
  {
   "cell_type": "markdown",
   "metadata": {},
   "source": [
    "# [Merge Intervals 🍋](https://www.fastprep.io/problems/amazon-merge-intervals)"
   ]
  },
  {
   "cell_type": "code",
   "execution_count": null,
   "metadata": {},
   "outputs": [],
   "source": []
  },
  {
   "cell_type": "markdown",
   "metadata": {},
   "source": [
    "# [Get Distinct Pairs (Also apply to AS intern)](https://www.fastprep.io/problems/amazon-get-distinct-pairs)"
   ]
  },
  {
   "cell_type": "code",
   "execution_count": null,
   "metadata": {},
   "outputs": [],
   "source": []
  },
  {
   "cell_type": "markdown",
   "metadata": {},
   "source": [
    "# [Minimum Operations to Make Array Elements Zero 🍋](https://www.fastprep.io/problems/amazon-minimum-operations-to-make-array-elements-zero)"
   ]
  },
  {
   "cell_type": "code",
   "execution_count": null,
   "metadata": {},
   "outputs": [],
   "source": []
  },
  {
   "cell_type": "markdown",
   "metadata": {},
   "source": [
    "# [Reverse Binary String with Minimum Shifts](https://www.fastprep.io/problems/amazon-reverse-binary-string)"
   ]
  },
  {
   "cell_type": "code",
   "execution_count": null,
   "metadata": {},
   "outputs": [],
   "source": []
  },
  {
   "cell_type": "markdown",
   "metadata": {},
   "source": [
    "# [Group Students (AS Intern, it may apply to other interns) 🍑](https://www.fastprep.io/problems/amazon-group-students)"
   ]
  },
  {
   "cell_type": "code",
   "execution_count": null,
   "metadata": {},
   "outputs": [],
   "source": []
  },
  {
   "cell_type": "markdown",
   "metadata": {},
   "source": [
    "# [Find Minimum Inefficienty](https://www.fastprep.io/problems/find-minimum-inefficiency)"
   ]
  },
  {
   "cell_type": "markdown",
   "metadata": {},
   "source": []
  }
 ],
 "metadata": {
  "kernelspec": {
   "display_name": "usr",
   "language": "python",
   "name": "python3"
  },
  "language_info": {
   "codemirror_mode": {
    "name": "ipython",
    "version": 3
   },
   "file_extension": ".py",
   "mimetype": "text/x-python",
   "name": "python",
   "nbconvert_exporter": "python",
   "pygments_lexer": "ipython3",
   "version": "3.12.3"
  }
 },
 "nbformat": 4,
 "nbformat_minor": 2
}
