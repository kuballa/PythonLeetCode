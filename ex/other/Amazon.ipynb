{
 "cells": [
  {
   "cell_type": "markdown",
   "metadata": {},
   "source": [
    "# [Sum fo System Vulnerability](https://www.fastprep.io/problems/amazon-find-sum-of-system-vulnerability)"
   ]
  },
  {
   "cell_type": "code",
   "execution_count": 19,
   "metadata": {},
   "outputs": [
    {
     "data": {
      "text/plain": [
       "29"
      ]
     },
     "execution_count": 19,
     "metadata": {},
     "output_type": "execute_result"
    }
   ],
   "source": [
    "vulnerability = [3, 2, 3]\n",
    "\n",
    "def sumOfSystemVulnerability(vulnerability):\n",
    "  result = 0\n",
    "  max_vul = 0\n",
    "  n = len(vulnerability)\n",
    "\n",
    "  for i in range(n):\n",
    "    for j in range(i, n):\n",
    "      max_vul = max(vulnerability[j], max_vul)\n",
    "      result += max_vul * (j + 1 - i)\n",
    "    max_vul = 0\n",
    "\n",
    "  return result\n",
    "\n",
    "sumOfSystemVulnerability(vulnerability)"
   ]
  },
  {
   "cell_type": "markdown",
   "metadata": {},
   "source": [
    "# [Find Max Value](https://www.fastprep.io/problems/amazon-find-max-value)"
   ]
  },
  {
   "cell_type": "code",
   "execution_count": 16,
   "metadata": {},
   "outputs": [
    {
     "name": "stdout",
     "output_type": "stream",
     "text": [
      "4\n"
     ]
    }
   ],
   "source": [
    "def binary_insert(arr, value):\n",
    "  low = 0\n",
    "  high = len(arr) - 1\n",
    "  mid = 0\n",
    "\n",
    "  while low <= high:\n",
    "    mid = (low + high) // 2\n",
    "    if arr[mid] < value:\n",
    "      low = mid + 1\n",
    "    elif arr[mid] > value:\n",
    "      high = mid - 1\n",
    "    else:\n",
    "      return mid\n",
    "  return mid + 1 if value > arr[-1] else mid\n",
    "\n",
    "# factor = [1, 2, 1]\n",
    "# data = [[1, 2, 3], [4, 5, 6], [7, 8, 9]]\n",
    "# x = 2\n",
    "\n",
    "# def findMaxValue(factor, data, x):\n",
    "#   for i, d in enumerate(data):\n",
    "#     print(d[-factor[i]:])\n",
    "\n",
    "# findMaxValue(factor, data, x)\n",
    "\n",
    "arr = [1,2,3,4,6]\n",
    "\n",
    "print(binary_insert(arr, 7))"
   ]
  },
  {
   "cell_type": "code",
   "execution_count": null,
   "metadata": {},
   "outputs": [],
   "source": []
  }
 ],
 "metadata": {
  "kernelspec": {
   "display_name": "usr",
   "language": "python",
   "name": "python3"
  },
  "language_info": {
   "codemirror_mode": {
    "name": "ipython",
    "version": 3
   },
   "file_extension": ".py",
   "mimetype": "text/x-python",
   "name": "python",
   "nbconvert_exporter": "python",
   "pygments_lexer": "ipython3",
   "version": "3.12.3"
  }
 },
 "nbformat": 4,
 "nbformat_minor": 2
}
